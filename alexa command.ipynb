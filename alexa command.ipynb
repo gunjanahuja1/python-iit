{
 "cells": [
  {
   "cell_type": "code",
   "execution_count": 1,
   "id": "2bf7e357",
   "metadata": {},
   "outputs": [],
   "source": [
    "from flask import Flask,render_template,redirect,request\n",
    "import warnings\n",
    "warnings.filterwarnings('ignore')\n",
    "import speech_recognition as sr\n",
    "import pyttsx3\n",
    "import pywhatkit\n",
    "import datetime\n",
    "import pyjokes\n",
    "import wikipedia\n",
    "import sys\n",
    "import requests,json \n",
    "import string\n",
    "\n",
    "listener = sr.Recognizer()\n",
    "#engine = pyttsx3.init()\n",
    "import os\n",
    "app = Flask(\"_name_\")"
   ]
  },
  {
   "cell_type": "code",
   "execution_count": 4,
   "id": "877fac23",
   "metadata": {},
   "outputs": [
    {
     "name": "stdout",
     "output_type": "stream",
     "text": [
      "Start Speaking!!\n"
     ]
    },
    {
     "data": {
      "text/plain": [
       "'kung fu'"
      ]
     },
     "execution_count": 4,
     "metadata": {},
     "output_type": "execute_result"
    }
   ],
   "source": [
    "def engine_talk(text):\n",
    "    engine = pyttsx3.init()\n",
    "    voices = engine.getProperty(\"voices\")\n",
    "    engine.setProperty('voice', voices[1].id)\n",
    "    engine.say(text)\n",
    "    engine.runAndWait()\n",
    "    \n",
    "def user_commands():\n",
    "    try:\n",
    "        with sr.Microphone(device_index=1) as source:\n",
    "            print(\"Start Speaking!!\")\n",
    "            voice = listener.listen(source)\n",
    "            command = listener.recognize_google(voice)\n",
    "            command = command.lower()\n",
    "            command = command.replace('alexa', '')\n",
    "            if 'alexa' in command:\n",
    "                print(command)      \n",
    "    except:\n",
    "           pass\n",
    "    return command\n",
    "\n",
    "engine_talk('alexa')\n",
    "user_commands()"
   ]
  },
  {
   "cell_type": "code",
   "execution_count": 5,
   "id": "bec70b7c",
   "metadata": {},
   "outputs": [],
   "source": [
    "def weather(city):\n",
    "    # Enter your API key here \n",
    "    api_key = \"6e8e5535924eb92c8763677cb42ff08c\"\n",
    "    #How to use api_key, see the below code:\n",
    "    #api_key = \"ABCDE\"\n",
    "    \n",
    "    # base_url variable to store url \n",
    "    base_url = \"http://api.openweathermap.org/data/2.5/weather?\"\n",
    "    \n",
    "    # Give city name \n",
    "    city_name = city\n",
    "    \n",
    "    # complete_url variable to store \n",
    "    # complete url address \n",
    "    complete_url = base_url + \"appid=\" + api_key + \"&q=\" + city_name \n",
    "    # get method of requests module \n",
    "    # return response object \n",
    "    response = requests.get(complete_url) \n",
    "    \n",
    "    # json method of response object  \n",
    "    # convert json format data into \n",
    "    # python format data \n",
    "    x = response.json() \n",
    "    print(x)\n",
    "      # Now x contains list of nested dictionaries \n",
    "    # Check the value of \"cod\" key is equal to \n",
    "    # \"404\", means city is found otherwise, \n",
    "    # city is not found \n",
    "    if x[\"cod\"] != \"404\": \n",
    "        y = x['main']\n",
    "        # store the value of \"main\" \n",
    "        # key in variable y \n",
    "         \n",
    "    \n",
    "        # store the value corresponding \n",
    "        # to the \"temp\" key of y \n",
    "        current_temperature = y[\"temp\"] \n",
    "        temp_in_celcius = current_temperature - 273.15\n",
    "        return str(int(temp_in_celcius))"
   ]
  },
  {
   "cell_type": "code",
   "execution_count": null,
   "id": "5b713aa4",
   "metadata": {},
   "outputs": [
    {
     "name": "stdout",
     "output_type": "stream",
     "text": [
      "Start Speaking!!\n"
     ]
    }
   ],
   "source": [
    "def run_alexa():\n",
    "    command = user_commands()\n",
    "    if 'play a song' in command:\n",
    "        song = 'Arijit Singh'\n",
    "        engine_talk('Playing some music')\n",
    "        print(\"Playing....\")\n",
    "        pywhatkit.playonyt(song)\n",
    "    elif 'play' in command:\n",
    "        song = command.replace('play', '')\n",
    "        engine_talk('Playing....' + song)\n",
    "        print(\"Playing....\")\n",
    "        pywhatkit.playonyt(song)     \n",
    "    elif 'time' in command:\n",
    "        time = datetime.datetime.now().strftime('%I:%M %p')\n",
    "        print(time)\n",
    "    elif 'time'in command :\n",
    "        time = datetime.datetime.now().strftime('%I:%m %p')\n",
    "        print(time) \n",
    "        engine_talk('Current Time is' + time)\n",
    "    elif 'joke' in command:\n",
    "        get_j = pyjokes.get_joke()\n",
    "        print(get_j)\n",
    "        engine_talk(get_j)\n",
    "    elif 'who is' in command:\n",
    "        person = command.replace('who is', '')\n",
    "        info = wikipedia.summary(person, 1)\n",
    "        print(info)\n",
    "        engine_talk(info)\n",
    "    elif 'weather' in command:\n",
    "        #engine_talk('Please tell name of the city')\n",
    "        city = 'china'\n",
    "        #city = 'Mumbai'\n",
    "        engine_talk('The temperature in delhi is' + weather(city) + 'degree celcius')\n",
    "        print('The temperature in delhi is' + weather(city) + 'degree celcius')\n",
    "    elif 'stop' in command:\n",
    "        engine_talk(\"Good bye\")\n",
    "        print(\"goodbye\")\n",
    "    else:\n",
    "        engine_talk(\"I didn't hear you properly\")\n",
    "        print(\"I didn't hear you properly\")\n",
    "        \n",
    "run_alexa()"
   ]
  },
  {
   "cell_type": "code",
   "execution_count": null,
   "id": "7cd2ad61",
   "metadata": {},
   "outputs": [],
   "source": [
    "# @app.route('/')\n",
    "#def hello():\n",
    "    #return render_template(\"alexa.html\")\n",
    "    #pass \n",
    "\n",
    "#@app.route(\"/home\")\n",
    "#def home():\n",
    "   # return redirect('/')\n",
    "    #pass \n",
    "\n",
    "# @app.route('/',methods=['POST', 'GET'])\n",
    "#def submit():\n",
    "    #while True:\n",
    "       # run_alexa()\n",
    "    #return render_template(\"alexa.html\")\n",
    "    #pass     \n",
    "\n",
    "if __name__ ==\"_main_\":\n",
    "    app.run(debug=True,use_reloader=False)"
   ]
  },
  {
   "cell_type": "code",
   "execution_count": null,
   "id": "a98a061a",
   "metadata": {},
   "outputs": [],
   "source": []
  },
  {
   "cell_type": "code",
   "execution_count": null,
   "id": "dce1dc40",
   "metadata": {},
   "outputs": [],
   "source": []
  },
  {
   "cell_type": "code",
   "execution_count": null,
   "id": "fb65cb81",
   "metadata": {},
   "outputs": [],
   "source": []
  },
  {
   "cell_type": "code",
   "execution_count": null,
   "id": "8f8e4d42",
   "metadata": {},
   "outputs": [],
   "source": []
  },
  {
   "cell_type": "code",
   "execution_count": null,
   "id": "68ca1507",
   "metadata": {},
   "outputs": [],
   "source": []
  }
 ],
 "metadata": {
  "kernelspec": {
   "display_name": "Python 3 (ipykernel)",
   "language": "python",
   "name": "python3"
  },
  "language_info": {
   "codemirror_mode": {
    "name": "ipython",
    "version": 3
   },
   "file_extension": ".py",
   "mimetype": "text/x-python",
   "name": "python",
   "nbconvert_exporter": "python",
   "pygments_lexer": "ipython3",
   "version": "3.9.12"
  }
 },
 "nbformat": 4,
 "nbformat_minor": 5
}
