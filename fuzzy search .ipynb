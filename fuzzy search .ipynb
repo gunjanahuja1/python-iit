{
 "cells": [
  {
   "cell_type": "code",
   "execution_count": 1,
   "id": "faf64b2e",
   "metadata": {},
   "outputs": [],
   "source": [
    "import numpy as np"
   ]
  },
  {
   "cell_type": "code",
   "execution_count": 2,
   "id": "a49ca695",
   "metadata": {},
   "outputs": [
    {
     "name": "stdout",
     "output_type": "stream",
     "text": [
      "{'type': 'Feature', 'feature_type': 'unit', 'coordinateX': 40, 'coordinateY': 81, 'geometryType': 'NODE', 'element': {'type': 'Rooms', 'subType': 'room door'}, 'name': 'Reception', 'floor': 'ground', 'properties': {'motion': None, 'daysOpen': None, 'latitude': None, 'doorType': None, 'url': None, 'node': '8464', 'openingMechanism': None, 'protocol': 'Open Access', 'doorMaterial': None, 'timings': None, 'startTime': None, 'endTime': None, 'nodeId': '0da63df-6270-7141-d831-a21e7cb216f', 'email': None, 'direction': None, 'contactNo': '0112659 6056', 'longitude': None}}\n",
      "{'type': 'Feature', 'feature_type': 'unit', 'coordinateX': 80, 'coordinateY': 90, 'geometryType': 'NODE', 'element': {'type': 'Rooms', 'subType': 'room door'}, 'name': 'Kolin Paul, 102', 'floor': 'first', 'properties': {'motion': None, 'daysOpen': None, 'latitude': None, 'doorType': None, 'url': None, 'openingMechanism': None, 'node': '9440', 'protocol': 'Staff Only', 'doorMaterial': None, 'timings': None, 'startTime': None, 'endTime': None, 'nodeId': '55466cf-7005-ea5-c271-4b27202082', 'email': None, 'direction': None, 'contactNo': None, 'longitude': None}}\n",
      "{'type': 'Feature', 'feature_type': 'unit', 'coordinateX': 81, 'coordinateY': 93, 'geometryType': 'NODE', 'element': {'type': 'Rooms', 'subType': 'room door'}, 'name': 'PA Room, 201', 'floor': 'second', 'properties': {'motion': None, 'daysOpen': None, 'latitude': None, 'doorType': None, 'url': None, 'node': '9753', 'openingMechanism': None, 'protocol': 'Open Access', 'doorMaterial': None, 'timings': None, 'startTime': None, 'endTime': None, 'nodeId': '8f5e01f-1d45-bb05-7ef5-13ff54c420d', 'email': None, 'direction': None, 'contactNo': None, 'longitude': None}}\n",
      "{'type': 'Feature', 'feature_type': 'unit', 'coordinateX': 80, 'coordinateY': 72, 'geometryType': 'NODE', 'element': {'type': 'Rooms', 'subType': 'room door'}, 'name': 'Rahul Garg, 104', 'floor': 'first', 'properties': {'motion': None, 'daysOpen': None, 'latitude': None, 'doorType': None, 'url': None, 'openingMechanism': None, 'node': '7568', 'protocol': 'Staff Only', 'doorMaterial': None, 'timings': None, 'startTime': None, 'endTime': None, 'nodeId': 'ead442-0e4d-5267-5624-4d55f7f0fa8', 'email': None, 'direction': None, 'contactNo': None, 'longitude': None}}\n",
      "{'type': 'Feature', 'feature_type': 'unit', 'coordinateX': 80, 'coordinateY': 86, 'geometryType': 'NODE', 'element': {'type': 'Rooms', 'subType': 'room door'}, 'name': 'Aaditeshwar Seth, 103', 'floor': 'first', 'properties': {'motion': None, 'daysOpen': None, 'latitude': None, 'doorType': None, 'url': None, 'openingMechanism': None, 'node': '9024', 'protocol': 'Staff Only', 'doorMaterial': None, 'timings': None, 'startTime': None, 'endTime': None, 'nodeId': 'ea7a551-c85-3f25-e1cc-c66aba15fa', 'email': None, 'direction': None, 'contactNo': None, 'longitude': None}}\n",
      "{'type': 'Feature', 'feature_type': 'unit', 'coordinateX': 32, 'coordinateY': 52, 'geometryType': 'NODE', 'element': {'type': 'Rooms', 'subType': 'room door'}, 'name': 'ACT4D Lab', 'floor': 'first', 'properties': {'motion': None, 'daysOpen': None, 'latitude': None, 'doorType': None, 'url': None, 'openingMechanism': None, 'node': '5440', 'protocol': 'Staff Only', 'doorMaterial': None, 'timings': None, 'startTime': None, 'endTime': None, 'nodeId': '4d857d1-d678-d211-218a-c7e832f13be', 'email': None, 'direction': None, 'contactNo': None, 'longitude': None}}\n",
      "{'type': 'Feature', 'feature_type': 'unit', 'coordinateX': 1, 'coordinateY': 47, 'geometryType': 'NODE', 'element': {'type': 'Rooms', 'subType': 'emergency exit'}, 'name': 'Emergency Exit', 'floor': 'ground', 'properties': {'motion': 'Push-Pull', 'daysOpen': 'Everyday', 'latitude': None, 'doorType': 'Single', 'url': None, 'node': '4889', 'openingMechanism': 'Manual', 'protocol': 'Emergency Only', 'doorMaterial': 'Wooden', 'timings': None, 'startTime': None, 'endTime': None, 'nodeId': 'ff045f7-031a-713a-a62-c85cf387ee', 'email': None, 'direction': None, 'contactNo': None, 'longitude': None}}\n",
      "{'type': 'Feature', 'feature_type': 'unit', 'coordinateX': 35, 'coordinateY': 66, 'geometryType': 'NODE', 'element': {'type': 'Rooms', 'subType': 'room door'}, 'name': 'Assistech Lab (009)', 'floor': 'ground', 'properties': {'motion': 'Push-Pull', 'daysOpen': 'Weekdays', 'latitude': None, 'doorType': 'Double', 'url': 'https://assistech.iitd.ac.in/', 'node': '6899', 'openingMechanism': 'Manual', 'protocol': 'Open Access', 'timings': None, 'doorMaterial': None, 'startTime': '09:00', 'endTime': '17:30', 'nodeId': 'bd8db8a-3c4b-fc7-13cd-ba5f54d50703', 'email': '', 'direction': None, 'contactNo': '0112659 6080', 'longitude': None}}\n",
      "{'type': 'Feature', 'feature_type': 'unit', 'coordinateX': 73, 'coordinateY': 66, 'geometryType': 'NODE', 'element': {'type': 'Rooms', 'subType': 'room door'}, 'name': 'Seminar room (001)', 'floor': 'ground', 'properties': {'motion': 'Push-Pull', 'daysOpen': 'Weekdays', 'latitude': None, 'doorType': 'Double', 'url': None, 'node': '6937', 'openingMechanism': 'Manual', 'protocol': 'Open Access', 'doorMaterial': 'Wooden', 'timings': None, 'startTime': '09:00', 'endTime': '17:30', 'nodeId': 'e7155b3-48ad-f525-15c4-be8eb6e0a3', 'email': '', 'direction': None, 'contactNo': None, 'longitude': None}}\n",
      "{'type': 'Feature', 'feature_type': 'unit', 'coordinateX': 54, 'coordinateY': 89, 'geometryType': 'NODE', 'element': {'type': 'Rooms', 'subType': 'main entry'}, 'name': 'SIT Entry', 'floor': 'ground', 'properties': {'motion': 'Push-Pull', 'daysOpen': 'Everyday', 'latitude': None, 'doorType': 'Double', 'url': None, 'node': '9310', 'openingMechanism': 'Manual', 'protocol': 'Open Access', 'doorMaterial': 'Glass', 'timings': None, 'startTime': None, 'endTime': None, 'nodeId': 'e6bdec0-3aa2-efc4-45a7-c1e0e40f4e04', 'email': None, 'direction': None, 'contactNo': None, 'longitude': None}}\n",
      "{'type': 'Feature', 'feature_type': 'unit', 'coordinateX': 23, 'coordinateY': 39, 'geometryType': 'NODE', 'element': {'type': 'Rooms', 'subType': 'room door'}, 'name': 'Server Room', 'floor': 'ground', 'properties': {'motion': 'Push-Pull', 'daysOpen': 'Weekdays', 'latitude': None, 'doorType': 'Double', 'url': None, 'node': '4079', 'openingMechanism': 'Manual', 'protocol': 'Open Access', 'doorMaterial': 'Glass', 'timings': None, 'startTime': None, 'endTime': None, 'nodeId': '62de35b-da3a-0cbd-3f0-2ef18de5dbfa', 'email': None, 'direction': None, 'contactNo': None, 'longitude': None}}\n",
      "{'type': 'Feature', 'feature_type': 'unit', 'coordinateX': 38, 'coordinateY': 44, 'geometryType': 'NODE', 'element': {'type': 'Rooms', 'subType': 'room door'}, 'name': 'Presentation Room (006)', 'floor': 'ground', 'properties': {'motion': 'Push-Pull', 'daysOpen': 'Weekdays', 'latitude': None, 'doorType': 'Single', 'url': None, 'node': '4614', 'openingMechanism': 'Manual', 'protocol': 'Staff Only', 'doorMaterial': 'Metal', 'timings': None, 'startTime': '09:00', 'endTime': '17:30', 'nodeId': '82a551-6586-600c-066-bc0103f420cf', 'email': '', 'direction': None, 'contactNo': None, 'longitude': None}}\n",
      "{'type': 'Feature', 'feature_type': 'unit', 'coordinateX': 69, 'coordinateY': 44, 'geometryType': 'NODE', 'element': {'type': 'Rooms', 'subType': 'room door'}, 'name': 'Liberary, 005', 'floor': 'ground', 'properties': {'motion': 'Push-Pull', 'daysOpen': 'Weekdays', 'latitude': None, 'doorType': 'Single', 'url': None, 'node': '4645', 'openingMechanism': 'Manual', 'protocol': 'Staff Only', 'doorMaterial': 'Metal', 'timings': None, 'startTime': '09:00', 'endTime': '17:30', 'nodeId': 'd0acc6e-f350-1dc3-ac7d-3b8cbc0720', 'email': '', 'direction': None, 'contactNo': None, 'longitude': None}}\n",
      "{'type': 'Feature', 'feature_type': 'unit', 'coordinateX': 65, 'coordinateY': 52, 'geometryType': 'NODE', 'element': {'type': 'Rooms', 'subType': 'room door'}, 'name': 'SIT Office', 'floor': 'first', 'properties': {'motion': None, 'daysOpen': None, 'latitude': None, 'doorType': None, 'url': None, 'openingMechanism': None, 'node': '5473', 'protocol': 'Open Access', 'doorMaterial': None, 'timings': None, 'startTime': None, 'endTime': None, 'nodeId': '24f356-75a4-7bad-0c57-aabfb676a23', 'email': None, 'direction': None, 'contactNo': None, 'longitude': None}}\n",
      "{'type': 'Feature', 'feature_type': 'unit', 'coordinateX': 61, 'coordinateY': 31, 'geometryType': 'NODE', 'element': {'type': 'Rooms', 'subType': 'room door'}, 'name': 'Head SIT', 'floor': 'first', 'properties': {'motion': None, 'daysOpen': None, 'latitude': None, 'doorType': None, 'url': None, 'openingMechanism': None, 'node': '3285', 'protocol': 'Staff Only', 'doorMaterial': None, 'timings': None, 'startTime': None, 'endTime': None, 'nodeId': 'b86de0e-8da0-b418-1a44-3762ae2d30f1', 'email': None, 'direction': None, 'contactNo': None, 'longitude': None}}\n",
      "{'type': 'Feature', 'feature_type': 'unit', 'coordinateX': 52, 'coordinateY': 52, 'geometryType': 'NODE', 'element': {'type': 'Rooms', 'subType': 'room door'}, 'name': 'Committee Room Waiting', 'floor': 'first', 'properties': {'motion': None, 'daysOpen': None, 'latitude': None, 'doorType': None, 'url': None, 'openingMechanism': None, 'node': '5460', 'protocol': 'Staff Only', 'doorMaterial': None, 'timings': None, 'startTime': None, 'endTime': None, 'nodeId': '4430231-357a-488a-ae53-f5e2da4efeb', 'email': None, 'direction': None, 'contactNo': None, 'longitude': None}}\n",
      "{'type': 'Feature', 'feature_type': 'unit', 'coordinateX': 30, 'coordinateY': 92, 'geometryType': 'NODE', 'element': {'type': 'Rooms', 'subType': 'room door'}, 'name': 'PA Room', 'floor': 'first', 'properties': {'motion': None, 'daysOpen': None, 'latitude': None, 'doorType': None, 'url': None, 'openingMechanism': None, 'node': '9598', 'protocol': 'Open Access', 'doorMaterial': None, 'timings': None, 'startTime': None, 'endTime': None, 'nodeId': '547b11-bb6-15db-6f41-c0e52e4d30b', 'email': None, 'direction': None, 'contactNo': None, 'longitude': None}}\n",
      "{'type': 'Feature', 'feature_type': 'unit', 'coordinateX': 29, 'coordinateY': 90, 'geometryType': 'NODE', 'element': {'type': 'Rooms', 'subType': 'room door'}, 'name': 'M Balakrishnan, 117', 'floor': 'first', 'properties': {'motion': None, 'daysOpen': None, 'latitude': None, 'doorType': None, 'url': None, 'openingMechanism': None, 'node': '9389', 'protocol': 'Staff Only', 'doorMaterial': None, 'timings': None, 'startTime': None, 'endTime': None, 'nodeId': '6a57bd-e71-f1b-ac1e-7651adc6311', 'email': None, 'direction': None, 'contactNo': None, 'longitude': None}}\n",
      "{'type': 'Feature', 'feature_type': 'unit', 'coordinateX': 29, 'coordinateY': 86, 'geometryType': 'NODE', 'element': {'type': 'Rooms', 'subType': 'room door'}, 'name': 'Chetan Arora, 116', 'floor': 'first', 'properties': {'motion': None, 'daysOpen': None, 'latitude': None, 'doorType': None, 'url': None, 'openingMechanism': None, 'node': '8973', 'protocol': 'Staff Only', 'doorMaterial': None, 'timings': None, 'startTime': None, 'endTime': None, 'nodeId': 'fe20e7d-cdf2-006e-6a-7b5c342d06a5', 'email': None, 'direction': None, 'contactNo': None, 'longitude': None}}\n",
      "{'type': 'Feature', 'feature_type': 'unit', 'coordinateX': 25, 'coordinateY': 59, 'geometryType': 'NODE', 'element': {'type': 'Rooms', 'subType': 'room door'}, 'name': 'Manik Verma, 115', 'floor': 'first', 'properties': {'motion': None, 'daysOpen': None, 'latitude': None, 'doorType': None, 'url': None, 'openingMechanism': None, 'node': '6161', 'protocol': 'Staff Only', 'doorMaterial': None, 'timings': None, 'startTime': None, 'endTime': None, 'nodeId': 'cfe3e14-e788-8815-641-7dcdd0b38b5', 'email': None, 'direction': None, 'contactNo': None, 'longitude': None}}\n",
      "{'type': 'Feature', 'feature_type': 'unit', 'coordinateX': 37, 'coordinateY': 52, 'geometryType': 'NODE', 'element': {'type': 'Rooms', 'subType': 'room door'}, 'name': 'Committee Room, 113', 'floor': 'first', 'properties': {'motion': None, 'daysOpen': None, 'latitude': None, 'doorType': None, 'url': None, 'openingMechanism': None, 'node': '5445', 'protocol': 'Staff Only', 'doorMaterial': None, 'timings': None, 'startTime': None, 'endTime': None, 'nodeId': '0bb4ec-51ad-6e3b-5c0b-886d4542c', 'email': None, 'direction': None, 'contactNo': None, 'longitude': None}}\n",
      "{'type': 'Feature', 'feature_type': 'unit', 'coordinateX': 56, 'coordinateY': 24, 'geometryType': 'NODE', 'element': {'type': 'Rooms', 'subType': 'room door'}, 'name': 'SIT Kitchen', 'floor': 'first', 'properties': {'motion': None, 'daysOpen': None, 'latitude': None, 'doorType': None, 'url': None, 'openingMechanism': None, 'node': '2552', 'protocol': 'Staff Only', 'doorMaterial': None, 'timings': None, 'startTime': None, 'endTime': None, 'nodeId': 'de1fcad-7dd-376f-dbf4-0a6f4b1b0f2', 'email': None, 'direction': None, 'contactNo': None, 'longitude': None}}\n",
      "{'type': 'Feature', 'feature_type': 'unit', 'coordinateX': 79, 'coordinateY': 92, 'geometryType': 'NODE', 'element': {'type': 'Rooms', 'subType': 'room door'}, 'name': 'Electrical Maintenance', 'floor': 'first', 'properties': {'motion': None, 'daysOpen': None, 'latitude': None, 'doorType': None, 'url': None, 'openingMechanism': None, 'node': '9647', 'protocol': 'Open Access', 'doorMaterial': None, 'timings': None, 'startTime': None, 'endTime': None, 'nodeId': '7be177b-0a3-20d3-78ad-d6a5a424ceac', 'email': None, 'direction': None, 'contactNo': None, 'longitude': None}}\n",
      "{'type': 'Feature', 'feature_type': 'unit', 'coordinateX': 86, 'coordinateY': 60, 'geometryType': 'NODE', 'element': {'type': 'Rooms', 'subType': 'room door'}, 'name': 'Scholar Lab 301', 'floor': 'third', 'properties': {'motion': None, 'daysOpen': None, 'latitude': None, 'doorType': None, 'url': None, 'openingMechanism': None, 'node': '6566', 'protocol': 'Staff Only', 'doorMaterial': None, 'timings': None, 'startTime': None, 'endTime': None, 'nodeId': '8be683c-c106-767d-2721-db2d37a11ef2', 'email': None, 'direction': None, 'contactNo': None, 'longitude': None}}\n",
      "{'type': 'Feature', 'feature_type': 'unit', 'coordinateX': 28, 'coordinateY': 62, 'geometryType': 'NODE', 'element': {'type': 'Rooms', 'subType': 'room door'}, 'name': 'Visiting Faculty, 213', 'floor': 'second', 'properties': {'motion': None, 'daysOpen': None, 'latitude': None, 'doorType': None, 'url': None, 'node': '6476', 'openingMechanism': None, 'protocol': 'Staff Only', 'doorMaterial': None, 'timings': None, 'startTime': None, 'endTime': None, 'nodeId': 'c3c5115-1d15-d58a-ae1-765d6a2eb384', 'email': None, 'direction': None, 'contactNo': None, 'longitude': None}}\n",
      "{'type': 'Feature', 'feature_type': 'unit', 'coordinateX': 25, 'coordinateY': 52, 'geometryType': 'NODE', 'element': {'type': 'Rooms', 'subType': 'room door'}, 'name': 'Embedded Lab, 211', 'floor': 'second', 'properties': {'motion': None, 'daysOpen': None, 'latitude': None, 'doorType': None, 'url': None, 'node': '5433', 'openingMechanism': None, 'protocol': 'Staff Only', 'doorMaterial': None, 'timings': None, 'startTime': None, 'endTime': None, 'nodeId': 'b6b66e1-a8-bae-55ca-7ced0682b1', 'email': None, 'direction': None, 'contactNo': None, 'longitude': None}}\n",
      "{'type': 'Feature', 'feature_type': 'unit', 'coordinateX': 82, 'coordinateY': 63, 'geometryType': 'NODE', 'element': {'type': 'Rooms', 'subType': 'room door'}, 'name': 'Prof. Sanjeeva Prasad, 204', 'floor': 'second', 'properties': {'motion': None, 'daysOpen': None, 'latitude': None, 'doorType': None, 'url': None, 'node': '6634', 'openingMechanism': None, 'protocol': 'Staff Only', 'doorMaterial': None, 'timings': None, 'startTime': None, 'endTime': None, 'nodeId': '5457330-ba48-78dc-38b4-1f38decf6e1b', 'email': None, 'direction': None, 'contactNo': None, 'longitude': None}}\n",
      "{'type': 'Feature', 'feature_type': 'unit', 'coordinateX': 31, 'coordinateY': 92, 'geometryType': 'NODE', 'element': {'type': 'Rooms', 'subType': 'room door'}, 'name': 'PA Room, 216', 'floor': 'second', 'properties': {'motion': None, 'daysOpen': None, 'latitude': None, 'doorType': None, 'url': None, 'node': '9599', 'openingMechanism': None, 'protocol': 'Open Access', 'doorMaterial': None, 'timings': None, 'startTime': None, 'endTime': None, 'nodeId': 'db5c3df-b2cc-a4d5-38f-ef8106aad664', 'email': None, 'direction': None, 'contactNo': None, 'longitude': None}}\n",
      "{'type': 'Feature', 'feature_type': 'unit', 'coordinateX': 82, 'coordinateY': 90, 'geometryType': 'NODE', 'element': {'type': 'Rooms', 'subType': 'room door'}, 'name': 'Prof. PR Panda, 202', 'floor': 'second', 'properties': {'motion': None, 'daysOpen': None, 'latitude': None, 'doorType': None, 'url': None, 'node': '9442', 'openingMechanism': None, 'protocol': 'Staff Only', 'doorMaterial': None, 'timings': None, 'startTime': None, 'endTime': None, 'nodeId': 'f4836d8-eb8d-1770-ed7c-325edde7b106', 'email': None, 'direction': None, 'contactNo': None, 'longitude': None}}\n",
      "{'type': 'Feature', 'feature_type': 'unit', 'coordinateX': 28, 'coordinateY': 90, 'geometryType': 'NODE', 'element': {'type': 'Rooms', 'subType': 'room door'}, 'name': 'SR Sarangi, 215', 'floor': 'second', 'properties': {'motion': None, 'daysOpen': None, 'latitude': None, 'doorType': None, 'url': None, 'node': '9388', 'openingMechanism': None, 'protocol': 'Staff Only', 'doorMaterial': None, 'timings': None, 'startTime': None, 'endTime': None, 'nodeId': '3e607e-451c-5886-2af6-a0a84c2423af', 'email': '', 'direction': None, 'contactNo': None, 'longitude': None}}\n",
      "{'type': 'Feature', 'feature_type': 'unit', 'coordinateX': 28, 'coordinateY': 86, 'geometryType': 'NODE', 'element': {'type': 'Rooms', 'subType': 'room door'}, 'name': 'Prof. Maya, 214', 'floor': 'second', 'properties': {'motion': None, 'daysOpen': None, 'latitude': None, 'doorType': None, 'url': None, 'node': '8972', 'openingMechanism': None, 'protocol': 'Staff Only', 'doorMaterial': None, 'timings': None, 'startTime': None, 'endTime': None, 'nodeId': '1b23134-5e1b-ed3d-eb08-1251f44caafa', 'email': None, 'direction': None, 'contactNo': None, 'longitude': None}}\n",
      "{'type': 'Feature', 'feature_type': 'unit', 'coordinateX': 71, 'coordinateY': 52, 'geometryType': 'NODE', 'element': {'type': 'Rooms', 'subType': 'room door'}, 'name': 'M.Tech Lab, 209', 'floor': 'second', 'properties': {'motion': None, 'daysOpen': None, 'latitude': None, 'doorType': None, 'url': None, 'node': '5479', 'openingMechanism': None, 'protocol': 'Staff Only', 'doorMaterial': None, 'timings': None, 'startTime': None, 'endTime': None, 'nodeId': '5b0e17e-2ee-f3da-6b3a-76a471be53', 'email': None, 'direction': None, 'contactNo': None, 'longitude': None}}\n",
      "{'type': 'Feature', 'feature_type': 'unit', 'coordinateX': 39, 'coordinateY': 52, 'geometryType': 'NODE', 'element': {'type': 'Rooms', 'subType': 'room door'}, 'name': 'M.Tech Lab, 210', 'floor': 'second', 'properties': {'motion': None, 'daysOpen': None, 'latitude': None, 'doorType': None, 'url': None, 'node': '5447', 'openingMechanism': None, 'protocol': 'Staff Only', 'doorMaterial': None, 'timings': None, 'startTime': None, 'endTime': None, 'nodeId': '211e38b-b33c-2ec2-efe0-062e74da86a8', 'email': None, 'direction': None, 'contactNo': None, 'longitude': None}}\n",
      "{'type': 'Feature', 'feature_type': 'unit', 'coordinateX': 82, 'coordinateY': 86, 'geometryType': 'NODE', 'element': {'type': 'Rooms', 'subType': 'room door'}, 'name': 'Prof. Amitabh Bagchi, 203', 'floor': 'second', 'properties': {'motion': None, 'daysOpen': None, 'latitude': None, 'doorType': None, 'url': None, 'node': '9026', 'openingMechanism': None, 'protocol': 'Staff Only', 'doorMaterial': None, 'timings': None, 'startTime': None, 'endTime': None, 'nodeId': 'ed6156f-80cc-a1-17-3acb0cf0c7', 'email': None, 'direction': None, 'contactNo': None, 'longitude': None}}\n",
      "{'type': 'Feature', 'feature_type': 'unit', 'coordinateX': 77, 'coordinateY': 86, 'geometryType': 'NODE', 'element': {'type': 'Rooms', 'subType': 'room door'}, 'name': 'Prof. Mausam, 403', 'floor': 'fourth', 'properties': {'motion': None, 'daysOpen': None, 'latitude': None, 'doorType': None, 'url': None, 'node': '9021', 'openingMechanism': None, 'protocol': 'Staff Only', 'doorMaterial': None, 'timings': None, 'startTime': None, 'endTime': None, 'nodeId': '504587e-1555-31b-1f6-f3e8c4326f', 'email': None, 'direction': None, 'contactNo': None, 'longitude': None}}\n",
      "{'type': 'Feature', 'feature_type': 'unit', 'coordinateX': 76, 'coordinateY': 53, 'geometryType': 'NODE', 'element': {'type': 'Rooms', 'subType': 'room door'}, 'name': 'M.Tech Lab 305', 'floor': 'third', 'properties': {'motion': None, 'daysOpen': None, 'latitude': None, 'doorType': None, 'url': None, 'openingMechanism': None, 'node': '5800', 'protocol': 'Staff Only', 'doorMaterial': None, 'timings': None, 'startTime': None, 'endTime': None, 'nodeId': '222bcf-5214-e7b2-1cf-8186581b661b', 'email': None, 'direction': None, 'contactNo': None, 'longitude': None}}\n",
      "{'type': 'Feature', 'feature_type': 'unit', 'coordinateX': 34, 'coordinateY': 60, 'geometryType': 'NODE', 'element': {'type': 'Rooms', 'subType': 'room door'}, 'name': 'Scholar Room 309', 'floor': 'third', 'properties': {'motion': None, 'daysOpen': None, 'latitude': None, 'doorType': None, 'url': None, 'openingMechanism': None, 'node': '6514', 'protocol': 'Staff Only', 'doorMaterial': None, 'timings': None, 'startTime': None, 'endTime': None, 'nodeId': '4c631-7556-a581-ae4-6dfe7101017b', 'email': None, 'direction': None, 'contactNo': None, 'longitude': None}}\n",
      "{'type': 'Feature', 'feature_type': 'unit', 'coordinateX': 76, 'coordinateY': 92, 'geometryType': 'NODE', 'element': {'type': 'Rooms', 'subType': 'room door'}, 'name': 'PA Room 401', 'floor': 'fourth', 'properties': {'motion': None, 'daysOpen': None, 'latitude': None, 'doorType': None, 'url': None, 'node': '9644', 'openingMechanism': None, 'protocol': 'Open Access', 'doorMaterial': None, 'timings': None, 'startTime': None, 'endTime': None, 'nodeId': '0831f4a-63c-bb6b-ae5-18d323fac588', 'email': None, 'direction': None, 'contactNo': None, 'longitude': None}}\n",
      "{'type': 'Feature', 'feature_type': 'unit', 'coordinateX': 34, 'coordinateY': 53, 'geometryType': 'NODE', 'element': {'type': 'Rooms', 'subType': 'room door'}, 'name': 'M.Tech Lab 308', 'floor': 'third', 'properties': {'motion': None, 'daysOpen': None, 'latitude': None, 'doorType': None, 'url': None, 'openingMechanism': None, 'node': '5758', 'protocol': 'Staff Only', 'doorMaterial': None, 'timings': None, 'startTime': None, 'endTime': None, 'nodeId': '3a1dc-5112-27ab-1b0-3fe52ee1754', 'email': None, 'direction': None, 'contactNo': None, 'longitude': None}}\n",
      "{'type': 'Feature', 'feature_type': 'unit', 'coordinateX': 77, 'coordinateY': 63, 'geometryType': 'NODE', 'element': {'type': 'Rooms', 'subType': 'room door'}, 'name': 'Prof. Parag, 404', 'floor': 'fourth', 'properties': {'motion': None, 'daysOpen': None, 'latitude': None, 'doorType': None, 'url': None, 'node': '6629', 'openingMechanism': None, 'protocol': 'Staff Only', 'doorMaterial': None, 'timings': None, 'startTime': None, 'endTime': None, 'nodeId': 'b8f745-4225-4213-a7b3-cb5681eca45', 'email': None, 'direction': None, 'contactNo': None, 'longitude': None}}\n",
      "{'type': 'Feature', 'feature_type': 'unit', 'coordinateX': 42, 'coordinateY': 53, 'geometryType': 'NODE', 'element': {'type': 'Rooms', 'subType': 'room door'}, 'name': 'M.Tech Lab 306', 'floor': 'third', 'properties': {'motion': None, 'daysOpen': None, 'latitude': None, 'doorType': None, 'url': None, 'openingMechanism': None, 'node': '5766', 'protocol': 'Staff Only', 'doorMaterial': None, 'timings': None, 'startTime': None, 'endTime': None, 'nodeId': '3dcec84-2350-d7cb-ac2c-dd80d6f4d47', 'email': None, 'direction': None, 'contactNo': None, 'longitude': None}}\n",
      "{'type': 'Feature', 'feature_type': 'unit', 'coordinateX': 30, 'coordinateY': 51, 'geometryType': 'NODE', 'element': {'type': 'Rooms', 'subType': 'room door'}, 'name': '408', 'floor': 'fourth', 'properties': {'motion': None, 'daysOpen': None, 'latitude': None, 'doorType': None, 'url': None, 'node': '5334', 'openingMechanism': None, 'protocol': 'Emergency Only', 'doorMaterial': None, 'timings': None, 'startTime': None, 'endTime': None, 'nodeId': '57d7375-88a0-dfd-a75-baa57dfc41ab', 'email': None, 'direction': None, 'contactNo': None, 'longitude': None}}\n",
      "{'type': 'Feature', 'feature_type': 'unit', 'coordinateX': 37, 'coordinateY': 51, 'geometryType': 'NODE', 'element': {'type': 'Rooms', 'subType': 'room door'}, 'name': '407', 'floor': 'fourth', 'properties': {'motion': None, 'daysOpen': None, 'latitude': None, 'doorType': None, 'url': None, 'node': '5341', 'openingMechanism': None, 'protocol': 'Open Access', 'doorMaterial': None, 'timings': None, 'startTime': None, 'endTime': None, 'nodeId': '1b657da-4b1a-d8ed-ea24-3ea427224a2d', 'email': None, 'direction': None, 'contactNo': None, 'longitude': None}}\n",
      "{'type': 'Feature', 'feature_type': 'unit', 'coordinateX': 27, 'coordinateY': 91, 'geometryType': 'NODE', 'element': {'type': 'Rooms', 'subType': 'room door'}, 'name': 'Prof. Rohan Paul', 'floor': 'fourth', 'properties': {'motion': None, 'daysOpen': None, 'latitude': None, 'doorType': None, 'url': None, 'node': '9491', 'openingMechanism': None, 'protocol': 'Staff Only', 'doorMaterial': None, 'timings': None, 'startTime': None, 'endTime': None, 'nodeId': '07dd872-061e-4804-7dd-bc0f76b20f', 'email': None, 'direction': None, 'contactNo': None, 'longitude': None}}\n",
      "{'type': 'Feature', 'feature_type': 'unit', 'coordinateX': 67, 'coordinateY': 51, 'geometryType': 'NODE', 'element': {'type': 'Rooms', 'subType': 'room door'}, 'name': '406', 'floor': 'fourth', 'properties': {'motion': None, 'daysOpen': None, 'latitude': None, 'doorType': None, 'url': None, 'node': '5371', 'openingMechanism': None, 'protocol': 'Staff Only', 'doorMaterial': None, 'timings': None, 'startTime': None, 'endTime': None, 'nodeId': 'ee65a24-eb67-88f-b5bd-54eec8ac3b7', 'email': None, 'direction': None, 'contactNo': None, 'longitude': None}}\n",
      "{'type': 'Feature', 'feature_type': 'unit', 'coordinateX': 77, 'coordinateY': 90, 'geometryType': 'NODE', 'element': {'type': 'Rooms', 'subType': 'room door'}, 'name': 'Room 402', 'floor': 'fourth', 'properties': {'motion': None, 'daysOpen': None, 'latitude': None, 'doorType': None, 'url': None, 'node': '9437', 'openingMechanism': None, 'protocol': 'Staff Only', 'doorMaterial': None, 'timings': None, 'startTime': None, 'endTime': None, 'nodeId': '320f30-3100-8b4-233a-af425badfd6', 'email': None, 'direction': None, 'contactNo': None, 'longitude': None}}\n",
      "{'type': 'Feature', 'feature_type': 'unit', 'coordinateX': 27, 'coordinateY': 62, 'geometryType': 'NODE', 'element': {'type': 'Rooms', 'subType': 'room door'}, 'name': 'Prof. Abhilash', 'floor': 'fourth', 'properties': {'motion': None, 'daysOpen': None, 'latitude': None, 'doorType': None, 'url': None, 'node': '6475', 'openingMechanism': None, 'protocol': 'Staff Only', 'doorMaterial': None, 'timings': None, 'startTime': None, 'endTime': None, 'nodeId': '5c46a8c-52c1-a6ab-2f7-ea876a31f88', 'email': None, 'direction': None, 'contactNo': None, 'longitude': None}}\n",
      "{'type': 'Feature', 'feature_type': 'unit', 'coordinateX': 27, 'coordinateY': 86, 'geometryType': 'NODE', 'element': {'type': 'Rooms', 'subType': 'room door'}, 'name': 'Prof. Sourav Bansal', 'floor': 'fourth', 'properties': {'motion': None, 'daysOpen': None, 'latitude': None, 'doorType': None, 'url': None, 'node': '8971', 'openingMechanism': None, 'protocol': 'Staff Only', 'doorMaterial': None, 'timings': None, 'startTime': None, 'endTime': None, 'nodeId': '47317-cb28-3304-fa06-cd4b5a58cbf2', 'email': None, 'direction': None, 'contactNo': None, 'longitude': None}}\n",
      "{'type': 'Feature', 'feature_type': 'unit', 'coordinateX': 85, 'coordinateY': 23, 'geometryType': 'NODE', 'element': {'type': 'FloorConnection', 'subType': 'stairs'}, 'name': '', 'floor': 'ground', 'properties': {'stepsNumber': None, 'latitude': None, 'stairsPoint': None, 'upwardSteps': '4,6,6', 'downwardSteps': '6,6,4', 'node': '2477', 'name': 'Stairs-2', 'nodeId': 'fa42cb7-37f2-5bcc-64c4-ca75daa56b4c', 'stepHeight': 'Medium', 'longitude': None}}\n",
      "{'type': 'Feature', 'feature_type': 'unit', 'coordinateX': 85, 'coordinateY': 28, 'geometryType': 'NODE', 'element': {'type': 'FloorConnection', 'subType': 'stairs'}, 'name': '', 'floor': 'first', 'properties': {'stepsNumber': None, 'latitude': None, 'stairsPoint': None, 'upwardSteps': '4,6,6', 'downwardSteps': '6,6,4', 'node': '2997', 'name': 'Stairs-2', 'nodeId': 'ef0374c-86c4-8ec-cca0-38ed87312f0', 'stepHeight': 'Medium', 'longitude': None}}\n",
      "{'type': 'Feature', 'feature_type': 'unit', 'coordinateX': 58, 'coordinateY': 50, 'geometryType': 'NODE', 'element': {'type': 'FloorConnection', 'subType': 'lift'}, 'name': '', 'floor': 'ground', 'properties': {'latitude': None, 'callLocation': 'Medium', 'capacity': '4', 'node': '5258', 'name': 'Lift-3', 'brailleAvailability': 'True', 'audio': 'Non Talking', 'wheelChairAccessibility': 'False', 'nodeId': '7c54e0b-270-7e32-308-b8776bb6bc8', 'longitude': None, 'panelDir': 'Left'}}\n",
      "{'type': 'Feature', 'feature_type': 'unit', 'coordinateX': 77, 'coordinateY': 101, 'geometryType': 'NODE', 'element': {'type': 'FloorConnection', 'subType': 'ramp'}, 'name': '', 'floor': 'ground', 'properties': {'node': '10581', 'rampPoint': 'Start Point', 'wheelchairAccessibilityLabel': 'True', 'rampLength': '30', 'latitude': None, 'rampWidth': None, 'name': 'Ramp-1', 'nodeId': 'f7db47d-42ee-b2d-1e6a-8aa51e751ad6', 'longitude': None}}\n",
      "{'type': 'Feature', 'feature_type': 'unit', 'coordinateX': 50, 'coordinateY': 50, 'geometryType': 'NODE', 'element': {'type': 'FloorConnection', 'subType': 'lift'}, 'name': '', 'floor': 'ground', 'properties': {'latitude': None, 'callLocation': 'Medium', 'capacity': '4', 'node': '5250', 'name': 'Lift-2', 'brailleAvailability': 'True', 'audio': 'Non Talking', 'wheelChairAccessibility': 'False', 'nodeId': 'f13c706-50f6-4c06-7f4b-547001816d2', 'longitude': None, 'panelDir': 'Right'}}\n",
      "{'type': 'Feature', 'feature_type': 'unit', 'coordinateX': 5, 'coordinateY': 45, 'geometryType': 'NODE', 'element': {'type': 'FloorConnection', 'subType': 'stairs'}, 'name': '', 'floor': 'ground', 'properties': {'stepsNumber': None, 'latitude': None, 'stairsPoint': None, 'upwardSteps': '8,8', 'downwardSteps': '8,8', 'node': '4685', 'name': 'Stairs-1', 'nodeId': 'f400da4-ef1d-0f71-3e11-cc630530dab', 'stepHeight': 'Medium', 'longitude': None}}\n",
      "{'type': 'Feature', 'feature_type': 'unit', 'coordinateX': 4, 'coordinateY': 58, 'geometryType': 'NODE', 'element': {'type': 'FloorConnection', 'subType': 'lift'}, 'name': '', 'floor': 'first', 'properties': {'latitude': None, 'callLocation': None, 'capacity': None, 'node': '6036', 'name': 'Lift-1', 'brailleAvailability': None, 'audio': 'Talking', 'wheelChairAccessibility': None, 'nodeId': '4c50067-7228-7603-f12-c5f047c64e3', 'longitude': None, 'panelDir': 'Left'}}\n",
      "{'type': 'Feature', 'feature_type': 'unit', 'coordinateX': 51, 'coordinateY': 59, 'geometryType': 'NODE', 'element': {'type': 'FloorConnection', 'subType': 'lift'}, 'name': '', 'floor': 'first', 'properties': {'latitude': None, 'callLocation': 'Medium', 'capacity': '4', 'node': '6187', 'name': 'Lift-2', 'brailleAvailability': 'True', 'audio': 'Talking', 'wheelChairAccessibility': 'False', 'nodeId': '2a473ab-16c6-041f-dce1-1e8fc435d80d', 'longitude': None, 'panelDir': 'Right'}}\n",
      "{'type': 'Feature', 'feature_type': 'unit', 'coordinateX': 58, 'coordinateY': 59, 'geometryType': 'NODE', 'element': {'type': 'FloorConnection', 'subType': 'lift'}, 'name': '', 'floor': 'first', 'properties': {'latitude': None, 'callLocation': 'Medium', 'capacity': '4', 'node': '6194', 'name': 'Lift-3', 'brailleAvailability': 'True', 'audio': 'Talking', 'wheelChairAccessibility': 'False', 'nodeId': 'a86b5e2-c452-e5a-226-1bdfcd4a8feb', 'longitude': None, 'panelDir': 'Left'}}\n",
      "{'type': 'Feature', 'feature_type': 'unit', 'coordinateX': 5, 'coordinateY': 59, 'geometryType': 'NODE', 'element': {'type': 'FloorConnection', 'subType': 'lift'}, 'name': '', 'floor': 'fourth', 'properties': {'latitude': None, 'callLocation': None, 'capacity': None, 'node': '6141', 'name': 'Lift-1', 'brailleAvailability': None, 'audio': None, 'wheelChairAccessibility': None, 'nodeId': 'fa547c-fdf7-e34-27ee-24cb18a6ce50', 'longitude': None, 'panelDir': None}}\n",
      "{'type': 'Feature', 'feature_type': 'unit', 'coordinateX': 50, 'coordinateY': 59, 'geometryType': 'NODE', 'element': {'type': 'FloorConnection', 'subType': 'lift'}, 'name': '', 'floor': 'second', 'properties': {'latitude': None, 'callLocation': None, 'capacity': None, 'node': '6186', 'name': 'Lift-2', 'brailleAvailability': 'True', 'audio': 'Talking', 'wheelChairAccessibility': None, 'nodeId': '88f2681-0225-a82c-48a-ccec4645d4c', 'longitude': None, 'panelDir': 'Left'}}\n",
      "{'type': 'Feature', 'feature_type': 'unit', 'coordinateX': 5, 'coordinateY': 51, 'geometryType': 'NODE', 'element': {'type': 'FloorConnection', 'subType': 'lift'}, 'name': '', 'floor': 'ground', 'properties': {'latitude': None, 'callLocation': 'Medium', 'capacity': None, 'node': '5309', 'name': 'Lift-1', 'brailleAvailability': 'True', 'audio': 'Talking', 'wheelChairAccessibility': 'True', 'nodeId': 'd4ad2-0706-1fb5-acd7-70b826441ad', 'longitude': None, 'panelDir': 'Left'}}\n",
      "{'type': 'Feature', 'feature_type': 'unit', 'coordinateX': 58, 'coordinateY': 58, 'geometryType': 'NODE', 'element': {'type': 'FloorConnection', 'subType': 'lift'}, 'name': '', 'floor': 'second', 'properties': {'latitude': None, 'callLocation': None, 'capacity': None, 'node': '6090', 'name': 'Lift-3', 'brailleAvailability': 'True', 'audio': 'Talking', 'wheelChairAccessibility': 'False', 'nodeId': '6c55fed-a174-6222-100e-f13c7fd77aef', 'longitude': None, 'panelDir': 'Left'}}\n",
      "{'type': 'Feature', 'feature_type': 'unit', 'coordinateX': 86, 'coordinateY': 28, 'geometryType': 'NODE', 'element': {'type': 'FloorConnection', 'subType': 'stairs'}, 'name': '', 'floor': 'second', 'properties': {'stepsNumber': None, 'latitude': None, 'stairsPoint': None, 'upwardSteps': '0', 'downwardSteps': '0', 'node': '2998', 'name': 'Stairs-2', 'nodeId': '05e8366-8b66-2f52-1bc-80c15f7e18f2', 'stepHeight': None, 'longitude': None}}\n",
      "{'type': 'Feature', 'feature_type': 'unit', 'coordinateX': 4, 'coordinateY': 52, 'geometryType': 'NODE', 'element': {'type': 'FloorConnection', 'subType': 'stairs'}, 'name': '', 'floor': 'first', 'properties': {'stepsNumber': None, 'latitude': None, 'stairsPoint': None, 'upwardSteps': '0', 'downwardSteps': '0', 'node': '5412', 'name': 'Stairs-1', 'nodeId': '7f5856c-c251-1af6-ae6d-d66672bb814', 'stepHeight': None, 'longitude': None}}\n",
      "{'type': 'Feature', 'feature_type': 'unit', 'coordinateX': 55, 'coordinateY': 59, 'geometryType': 'NODE', 'element': {'type': 'FloorConnection', 'subType': 'lift'}, 'name': '', 'floor': 'fourth', 'properties': {'latitude': None, 'callLocation': None, 'capacity': None, 'node': '6191', 'name': 'Lift-3', 'brailleAvailability': None, 'audio': None, 'wheelChairAccessibility': None, 'nodeId': 'b5f7e4-0fd4-5bdc-1c1b-ba6d43ae0ce7', 'longitude': None, 'panelDir': None}}\n",
      "{'type': 'Feature', 'feature_type': 'unit', 'coordinateX': 56, 'coordinateY': 60, 'geometryType': 'NODE', 'element': {'type': 'FloorConnection', 'subType': 'lift'}, 'name': '', 'floor': 'third', 'properties': {'latitude': None, 'callLocation': None, 'capacity': None, 'node': '6536', 'name': 'Lift-2', 'brailleAvailability': None, 'audio': None, 'wheelChairAccessibility': None, 'nodeId': '8e2f7-333a-a35-1b35-fe8f84411dd6', 'longitude': None, 'panelDir': None}}\n",
      "{'type': 'Feature', 'feature_type': 'unit', 'coordinateX': 81, 'coordinateY': 27, 'geometryType': 'NODE', 'element': {'type': 'FloorConnection', 'subType': 'stairs'}, 'name': '', 'floor': 'fourth', 'properties': {'stepsNumber': None, 'latitude': None, 'stairsPoint': None, 'upwardSteps': '0', 'downwardSteps': '0', 'node': '2889', 'name': 'Stairs-2', 'nodeId': '5d060dc-efa-b25b-6a22-52285152fcc', 'stepHeight': None, 'longitude': None}}\n",
      "{'type': 'Feature', 'feature_type': 'unit', 'coordinateX': 6, 'coordinateY': 55, 'geometryType': 'NODE', 'element': {'type': 'FloorConnection', 'subType': 'stairs'}, 'name': '', 'floor': 'third', 'properties': {'stepsNumber': None, 'latitude': None, 'stairsPoint': None, 'upwardSteps': '0', 'downwardSteps': '0', 'node': '5946', 'name': 'Stairs-1', 'nodeId': 'd5d4b76-b20-7471-4d0b-d62013b32a6', 'stepHeight': None, 'longitude': None}}\n",
      "{'type': 'Feature', 'feature_type': 'unit', 'coordinateX': 93, 'coordinateY': 27, 'geometryType': 'NODE', 'element': {'type': 'FloorConnection', 'subType': 'stairs'}, 'name': '', 'floor': 'third', 'properties': {'stepsNumber': None, 'latitude': None, 'stairsPoint': None, 'upwardSteps': '0', 'downwardSteps': '0', 'node': '3009', 'name': 'Stairs-2', 'nodeId': 'a6db3c7-24c4-cd57-c26c-00a1776510e7', 'stepHeight': None, 'longitude': None}}\n",
      "{'type': 'Feature', 'feature_type': 'unit', 'coordinateX': 5, 'coordinateY': 60, 'geometryType': 'NODE', 'element': {'type': 'FloorConnection', 'subType': 'lift'}, 'name': '', 'floor': 'third', 'properties': {'latitude': None, 'callLocation': None, 'capacity': None, 'node': '6485', 'name': 'Lift-1', 'brailleAvailability': None, 'audio': None, 'wheelChairAccessibility': None, 'nodeId': 'b126b4e-4d3-7d-04aa-d4202061bd', 'longitude': None, 'panelDir': None}}\n",
      "{'type': 'Feature', 'feature_type': 'unit', 'coordinateX': 63, 'coordinateY': 59, 'geometryType': 'NODE', 'element': {'type': 'FloorConnection', 'subType': 'lift'}, 'name': '', 'floor': 'third', 'properties': {'latitude': None, 'callLocation': None, 'capacity': None, 'node': '6435', 'name': 'Lift-3', 'brailleAvailability': None, 'audio': 'Talking', 'wheelChairAccessibility': None, 'nodeId': '6abe4c-e3a-836-3-7aa78ffb17b5', 'longitude': None, 'panelDir': None}}\n",
      "{'type': 'Feature', 'feature_type': 'unit', 'coordinateX': 6, 'coordinateY': 53, 'geometryType': 'NODE', 'element': {'type': 'FloorConnection', 'subType': 'stairs'}, 'name': '', 'floor': 'second', 'properties': {'stepsNumber': None, 'latitude': None, 'stairsPoint': None, 'upwardSteps': '0', 'downwardSteps': '0', 'node': '5518', 'name': 'Stairs-1', 'nodeId': '8087b4b-7a1d-cda4-003d-6a30ab4ef5af', 'stepHeight': None, 'longitude': None}}\n",
      "{'type': 'Feature', 'feature_type': 'unit', 'coordinateX': 48, 'coordinateY': 59, 'geometryType': 'NODE', 'element': {'type': 'FloorConnection', 'subType': 'lift'}, 'name': '', 'floor': 'fourth', 'properties': {'latitude': None, 'callLocation': None, 'capacity': None, 'node': '6184', 'name': 'Lift-2', 'brailleAvailability': None, 'audio': None, 'wheelChairAccessibility': None, 'nodeId': 'def1ea-a06a-dbb1-2ef8-b2d1737cd6f8', 'longitude': None, 'panelDir': None}}\n",
      "{'type': 'Feature', 'feature_type': 'unit', 'coordinateX': 5, 'coordinateY': 53, 'geometryType': 'NODE', 'element': {'type': 'FloorConnection', 'subType': 'stairs'}, 'name': '', 'floor': 'fourth', 'properties': {'stepsNumber': None, 'latitude': None, 'stairsPoint': None, 'upwardSteps': '0', 'downwardSteps': '0', 'node': '5517', 'name': 'Stairs-1', 'nodeId': 'f7d6c5a-888-d44-583a-fc2bd503b01a', 'stepHeight': None, 'longitude': None}}\n",
      "{'type': 'Feature', 'feature_type': 'unit', 'coordinateX': 5, 'coordinateY': 58, 'geometryType': 'NODE', 'element': {'type': 'FloorConnection', 'subType': 'lift'}, 'name': '', 'floor': 'second', 'properties': {'latitude': None, 'callLocation': None, 'capacity': None, 'node': '6037', 'name': 'Lift-1', 'brailleAvailability': None, 'audio': 'Talking', 'wheelChairAccessibility': None, 'nodeId': '2728a8-2e5-a528-dd3c-00ac5ab7c', 'longitude': None, 'panelDir': 'Left'}}\n",
      "{'type': 'Feature', 'feature_type': 'unit', 'coordinateX': 90, 'coordinateY': 32, 'geometryType': 'NODE', 'element': {'type': 'Services', 'subType': 'restRoom'}, 'name': 'Male Washroom 1', 'floor': 'first', 'properties': {'toiletRolls': False, 'tapMug': False, 'washroomType': 'Male', 'latitude': None, 'numCubicles': '3', 'liquidSoap': True, 'soapbar': False, 'numUrinals': '2', 'sanitaryNapkins': False, 'basinClock': '12', 'blowDryer': False, 'node': 2898, 'cubicleClock': '1', 'urinalClock': '12', 'paperNapkins': False, 'wheelChairAccessibility': None, 'nodeId': None, 'handShower': True, 'numWashbasin': '2', 'longitude': None}}\n",
      "{'type': 'Feature', 'feature_type': 'unit', 'coordinateX': 90, 'coordinateY': 35, 'geometryType': 'NODE', 'element': {'type': 'Services', 'subType': 'restRoom'}, 'name': 'Handicapped Washroom 1', 'floor': 'first', 'properties': {'toiletRolls': False, 'tapMug': False, 'washroomType': 'Handicapped', 'latitude': None, 'numCubicles': '1', 'liquidSoap': True, 'soapbar': False, 'numUrinals': 'null', 'sanitaryNapkins': False, 'basinClock': '12', 'blowDryer': False, 'node': 3210, 'cubicleClock': '12', 'urinalClock': 'null', 'paperNapkins': False, 'wheelChairAccessibility': None, 'nodeId': None, 'handShower': True, 'longitude': None, 'numWashbasin': '1'}}\n",
      "{'type': 'Feature', 'feature_type': 'unit', 'coordinateX': 86, 'coordinateY': 46, 'geometryType': 'NODE', 'element': {'type': 'Services', 'subType': 'restRoom'}, 'name': 'Female Washroom 1', 'floor': 'first', 'properties': {'toiletRolls': False, 'tapMug': False, 'washroomType': 'Female', 'latitude': None, 'numCubicles': '3', 'liquidSoap': True, 'soapbar': False, 'numUrinals': 'null', 'sanitaryNapkins': False, 'basinClock': '2', 'blowDryer': False, 'node': 3310, 'cubicleClock': '12', 'urinalClock': 'null', 'paperNapkins': False, 'wheelChairAccessibility': None, 'nodeId': None, 'handShower': True, 'longitude': None, 'numWashbasin': '2'}}\n",
      "{'type': 'Feature', 'feature_type': 'unit', 'coordinateX': 91, 'coordinateY': 32, 'geometryType': 'NODE', 'element': {'type': 'Services', 'subType': 'restRoom'}, 'name': 'Male Washroom 1', 'floor': 'second', 'properties': {'tapMug': False, 'toiletRolls': False, 'washroomType': 'Male', 'latitude': None, 'numCubicles': '3', 'liquidSoap': True, 'soapbar': False, 'numUrinals': '2', 'sanitaryNapkins': False, 'basinClock': '12', 'blowDryer': False, 'node': 3418, 'cubicleClock': '1', 'urinalClock': '12', 'paperNapkins': False, 'wheelChairAccessibility': None, 'nodeId': None, 'handShower': False, 'longitude': None, 'numWashbasin': '2'}}\n",
      "{'type': 'Feature', 'feature_type': 'unit', 'coordinateX': 87, 'coordinateY': 34, 'geometryType': 'NODE', 'element': {'type': 'Services', 'subType': 'drinkingWater'}, 'name': 'Drinking Water Point 1', 'floor': 'ground', 'properties': {'node': '3623', 'approxHeight': None, 'tapDirection': 'Right', 'tapType': 'Brass Type', 'nodeId': None}}\n",
      "{'type': 'Feature', 'feature_type': 'unit', 'coordinateX': 90, 'coordinateY': 27, 'geometryType': 'NODE', 'element': {'type': 'Services', 'subType': 'restRoom'}, 'name': 'Male Washroom 1', 'floor': 'ground', 'properties': {'tapMug': False, 'toiletRolls': False, 'washroomType': 'Male', 'latitude': None, 'numCubicles': '3', 'liquidSoap': True, 'soapbar': False, 'numUrinals': '2', 'sanitaryNapkins': False, 'basinClock': '0', 'blowDryer': False, 'node': 3419, 'cubicleClock': '2', 'urinalClock': '0', 'paperNapkins': False, 'wheelChairAccessibility': None, 'nodeId': None, 'handShower': False, 'longitude': None, 'numWashbasin': '1'}}\n",
      "{'type': 'Feature', 'feature_type': 'unit', 'coordinateX': 85, 'coordinateY': 39, 'geometryType': 'NODE', 'element': {'type': 'Services', 'subType': 'restRoom'}, 'name': 'Female Washroom 1', 'floor': 'ground', 'properties': {'tapMug': False, 'toiletRolls': False, 'washroomType': 'Female', 'latitude': None, 'liquidSoap': True, 'numCubicles': '3', 'soapbar': False, 'numUrinals': 'null', 'sanitaryNapkins': False, 'basinClock': '0', 'blowDryer': False, 'node': 3446, 'cubicleClock': '11', 'urinalClock': 'null', 'paperNapkins': False, 'wheelChairAccessibility': None, 'nodeId': None, 'handShower': False, 'longitude': None, 'numWashbasin': '2'}}\n",
      "{'type': 'Feature', 'feature_type': 'unit', 'coordinateX': 87, 'coordinateY': 39, 'geometryType': 'NODE', 'element': {'type': 'Services', 'subType': 'drinkingWater'}, 'name': 'Drinking Water Point 1', 'floor': 'first', 'properties': {'node': 4143, 'approxHeight': '1.2', 'tapDirection': 'Right', 'tapType': 'Pillar Type', 'nodeId': None}}\n",
      "{'type': 'Feature', 'feature_type': 'unit', 'coordinateX': 35, 'coordinateY': 68, 'geometryType': 'NODE', 'element': {'type': 'Services', 'subType': 'AR'}, 'name': '', 'floor': 'ground', 'properties': {'node': '7107', 'nodeId': None, 'arName': 'Assistech Lab', 'arValue': '12'}}\n",
      "{'type': 'Feature', 'feature_type': 'unit', 'coordinateX': 34, 'coordinateY': 51, 'geometryType': 'NODE', 'element': {'type': 'Services', 'subType': 'AR'}, 'name': '', 'floor': 'ground', 'properties': {'node': '5338', 'nodeId': None, 'arName': 'UWB-1', 'arValue': '2ABA'}}\n",
      "{'type': 'Feature', 'feature_type': 'unit', 'coordinateX': 87, 'coordinateY': 46, 'geometryType': 'NODE', 'element': {'type': 'Services', 'subType': 'restRoom'}, 'name': 'Female Washroom 1', 'floor': 'second', 'properties': {'tapMug': False, 'toiletRolls': False, 'washroomType': 'Female', 'latitude': None, 'liquidSoap': True, 'numCubicles': '2', 'soapbar': False, 'numUrinals': 'null', 'sanitaryNapkins': False, 'basinClock': '12', 'blowDryer': False, 'node': 3623, 'cubicleClock': '10', 'urinalClock': 'null', 'paperNapkins': False, 'wheelChairAccessibility': None, 'nodeId': None, 'handShower': False, 'longitude': None, 'numWashbasin': '2'}}\n",
      "{'type': 'Feature', 'feature_type': 'unit', 'coordinateX': 87, 'coordinateY': 40, 'geometryType': 'NODE', 'element': {'type': 'Services', 'subType': 'drinkingWater'}, 'name': 'Drinking Water Point 1', 'floor': 'second', 'properties': {'node': 4247, 'approxHeight': '1', 'tapDirection': 'Right', 'tapType': 'Brass Type', 'nodeId': None}}\n",
      "{'type': 'Feature', 'feature_type': 'unit', 'coordinateX': 92, 'coordinateY': 35, 'geometryType': 'NODE', 'element': {'type': 'Services', 'subType': 'restRoom'}, 'name': 'Handicapped Washroom 1', 'floor': 'second', 'properties': {'tapMug': False, 'toiletRolls': False, 'washroomType': 'Handicapped', 'latitude': None, 'liquidSoap': False, 'numCubicles': '1', 'soapbar': False, 'numUrinals': 'null', 'sanitaryNapkins': False, 'basinClock': 'null', 'blowDryer': False, 'node': 3730, 'cubicleClock': 'null', 'urinalClock': 'null', 'paperNapkins': False, 'wheelChairAccessibility': None, 'nodeId': None, 'handShower': False, 'longitude': None, 'numWashbasin': '1'}}\n",
      "{'type': 'Feature', 'feature_type': 'unit', 'coordinateX': 90, 'coordinateY': 30, 'geometryType': 'NODE', 'element': {'type': 'Services', 'subType': 'restRoom'}, 'name': 'Handicapped Washroom 1', 'floor': 'ground', 'properties': {'tapMug': False, 'toiletRolls': False, 'washroomType': 'Handicapped', 'latitude': None, 'liquidSoap': False, 'numCubicles': '1', 'soapbar': False, 'numUrinals': 'null', 'sanitaryNapkins': False, 'basinClock': 'null', 'blowDryer': False, 'node': 3732, 'cubicleClock': 'null', 'urinalClock': 'null', 'paperNapkins': False, 'wheelChairAccessibility': None, 'nodeId': None, 'handShower': False, 'longitude': None, 'numWashbasin': '1'}}\n",
      "{'type': 'Feature', 'feature_type': 'unit', 'coordinateX': 94, 'coordinateY': 47, 'geometryType': 'NODE', 'element': {'type': 'Services', 'subType': 'restRoom'}, 'name': 'Female Washroom 1', 'floor': 'third', 'properties': {'toiletRolls': False, 'tapMug': False, 'washroomType': 'Female', 'latitude': None, 'numCubicles': 'null', 'liquidSoap': False, 'soapbar': False, 'numUrinals': 'null', 'sanitaryNapkins': False, 'basinClock': 'null', 'blowDryer': False, 'node': 3879, 'cubicleClock': 'null', 'urinalClock': 'null', 'paperNapkins': False, 'wheelChairAccessibility': None, 'nodeId': None, 'handShower': False, 'longitude': None, 'numWashbasin': 'null'}}\n",
      "{'type': 'Feature', 'feature_type': 'unit', 'coordinateX': 67, 'coordinateY': 44, 'geometryType': 'NODE', 'element': {'type': 'Services', 'subType': 'AR'}, 'name': '', 'floor': 'ground', 'properties': {'node': '4643', 'nodeId': None, 'arName': 'Library ', 'arValue': '11'}}\n",
      "{'type': 'Feature', 'feature_type': 'unit', 'coordinateX': 98, 'coordinateY': 31, 'geometryType': 'NODE', 'element': {'type': 'Services', 'subType': 'restRoom'}, 'name': 'Male Washroom 1', 'floor': 'third', 'properties': {'toiletRolls': False, 'tapMug': False, 'washroomType': 'Male', 'latitude': None, 'numCubicles': 'null', 'liquidSoap': False, 'soapbar': False, 'numUrinals': 'null', 'sanitaryNapkins': False, 'basinClock': 'null', 'blowDryer': False, 'node': 4141, 'cubicleClock': 'null', 'urinalClock': 'null', 'paperNapkins': False, 'wheelChairAccessibility': None, 'nodeId': None, 'handShower': False, 'numWashbasin': 'null', 'longitude': None}}\n",
      "{'type': 'Feature', 'feature_type': 'unit', 'coordinateX': 99, 'coordinateY': 35, 'geometryType': 'NODE', 'element': {'type': 'Services', 'subType': 'restRoom'}, 'name': 'Handicapped Washroom 1', 'floor': 'third', 'properties': {'toiletRolls': False, 'tapMug': False, 'washroomType': 'Handicapped', 'latitude': None, 'numCubicles': 'null', 'liquidSoap': False, 'soapbar': False, 'numUrinals': 'null', 'sanitaryNapkins': False, 'basinClock': 'null', 'blowDryer': False, 'node': 4866, 'cubicleClock': 'null', 'urinalClock': 'null', 'paperNapkins': False, 'wheelChairAccessibility': None, 'nodeId': None, 'handShower': False, 'longitude': None, 'numWashbasin': 'null'}}\n",
      "{'type': 'Feature', 'feature_type': 'unit', 'coordinateX': 95, 'coordinateY': 40, 'geometryType': 'NODE', 'element': {'type': 'Services', 'subType': 'drinkingWater'}, 'name': 'Drinking Water Point 1', 'floor': 'third', 'properties': {'node': 4415, 'approxHeight': '1.2', 'tapDirection': 'Right', 'tapType': 'Pillar Type', 'nodeId': None}}\n",
      "{'type': 'Feature', 'feature_type': 'unit', 'coordinateX': 82, 'coordinateY': 46, 'geometryType': 'NODE', 'element': {'type': 'Services', 'subType': 'restRoom'}, 'name': 'Female Washroom 1', 'floor': 'fourth', 'properties': {'tapMug': False, 'toiletRolls': False, 'washroomType': 'Female', 'latitude': None, 'liquidSoap': False, 'numCubicles': 'null', 'soapbar': False, 'numUrinals': 'null', 'sanitaryNapkins': False, 'basinClock': 'null', 'blowDryer': False, 'node': 4871, 'cubicleClock': 'null', 'urinalClock': 'null', 'paperNapkins': False, 'wheelChairAccessibility': None, 'nodeId': None, 'handShower': False, 'longitude': None, 'numWashbasin': 'null'}}\n",
      "{'type': 'Feature', 'feature_type': 'unit', 'coordinateX': 86, 'coordinateY': 31, 'geometryType': 'NODE', 'element': {'type': 'Services', 'subType': 'restRoom'}, 'name': 'Male Washroom 1', 'floor': 'fourth', 'properties': {'tapMug': False, 'toiletRolls': False, 'washroomType': 'Male', 'latitude': None, 'numCubicles': 'null', 'liquidSoap': False, 'soapbar': False, 'numUrinals': 'null', 'sanitaryNapkins': False, 'basinClock': 'null', 'blowDryer': False, 'node': 5170, 'cubicleClock': 'null', 'urinalClock': 'null', 'paperNapkins': False, 'wheelChairAccessibility': None, 'nodeId': None, 'handShower': False, 'longitude': None, 'numWashbasin': 'null'}}\n",
      "{'type': 'Feature', 'feature_type': 'unit', 'coordinateX': 73, 'coordinateY': 68, 'geometryType': 'NODE', 'element': {'type': 'Services', 'subType': 'AR'}, 'name': '', 'floor': 'ground', 'properties': {'node': '7145', 'nodeId': None, 'arName': 'Seminar Room', 'arValue': '15'}}\n",
      "{'type': 'Feature', 'feature_type': 'unit', 'coordinateX': 21, 'coordinateY': 39, 'geometryType': 'NODE', 'element': {'type': 'Services', 'subType': 'AR'}, 'name': '', 'floor': 'ground', 'properties': {'node': '4077', 'nodeId': None, 'arName': 'Server Room', 'arValue': '17'}}\n",
      "{'type': 'Feature', 'feature_type': 'unit', 'coordinateX': 54, 'coordinateY': 50, 'geometryType': 'NODE', 'element': {'type': 'Services', 'subType': 'AR'}, 'name': '', 'floor': 'ground', 'properties': {'node': '5254', 'nodeId': None, 'arName': 'Lift on Ground Floor', 'arValue': '16'}}\n",
      "{'type': 'Feature', 'feature_type': 'unit', 'coordinateX': 41, 'coordinateY': 44, 'geometryType': 'NODE', 'element': {'type': 'Services', 'subType': 'AR'}, 'name': '', 'floor': 'ground', 'properties': {'node': '4617', 'nodeId': None, 'arName': 'Presentation Room ', 'arValue': '14'}}\n",
      "{'type': 'Feature', 'feature_type': 'unit', 'coordinateX': 56, 'coordinateY': 87, 'geometryType': 'NODE', 'element': {'type': 'Services', 'subType': 'AR'}, 'name': '', 'floor': 'ground', 'properties': {'node': '9104', 'nodeId': None, 'arName': 'Main Entrance SIT', 'arValue': '13'}}\n",
      "{'type': None, 'feature_type': None, 'coordinateX': -1, 'coordinateY': -1, 'geometryType': 'FLOOR', 'element': {'type': 'Floor', 'subType': None}, 'name': None, 'floor': 'ground', 'properties': {'fileName': '004ef3cf-9294-4171-adc0-1554759d5400_IITCampus-ANSKSIT-ground_FloorPlanZero.png', 'nonWalkableGrids': ['9162,7290,8226,7706,7914,7810,8018,8122,7498,7602,7394,8642,8434,8538,8330,8850,8746,8954,9058,6354,6770,6562,6666,6458,6978,6874,7082,7186,5834,6042,5938,6146,6250,5626,5730,5522,5418,5430,5424,5427,5425,5426,5428,5429,5421,5422,5423,5419,5420,5436,5433,5434,5435,5431,5432,5439,5437,5438,5440,5441,5442,7314,6378,6794,6586,6690,6482,7002,6898,7106,7210,5858,6066,5962,6170,6274,5650,5754,5546,8250,7730,7938,7834,8042,8146,7522,7626,7418,8666,8458,8562,8354,8874,8770,8978,9082,9186,9174,9180,9177,9178,9179,9175,9176,9183,9181,9182,9184,9185,9168,9171,9169,9170,9172,9173,9165,9166,9167,9163,9164', '9185,9193,9189,9191,9190,9192,9187,9188,9186,9197,9195,9196,9194,9199,9198,9200,9201,9202', '9226,9239,9232,9235,9233,9234,9237,9236,9238,9229,9230,9231,9227,9228,9245,9242,9243,9244,9240,9241,9248,9246,9247,9250,9249,9251,9252,7276,8212,7692,7900,7796,8004,8108,7484,7588,7380,8732,8420,8524,8628,8316,8940,8836,9044,9148,6340,6756,6548,6652,6444,6964,6860,7068,7172,5820,6028,5924,6132,6236,5612,5716,5508,5404,5391,5397,5394,5395,5396,5392,5393,5400,5398,5399,5402,5401,5403,5384,5387,5385,5386,5389,5388,5390,5381,5382,5383,5379,5380,5378,7250,6314,6730,6522,6626,6418,6938,6834,7042,7146,5794,6002,5898,6106,6210,5586,5690,5482,8186,7666,7874,7770,7978,8082,7458,7562,7354,8706,8394,8498,8602,8290,8914,8810,9018,9122', '10746,9914,10330,10122,10226,10018,10538,10434,10642,9498,9706,9602,9810,9290,9394,9186,9082', '9850,10058,9954,10162,10266,10276,10271,10273,10272,10274,10275,10268,10269,10270,10267,10281,10278,10279,10280,10277,10283,10282,10284,10285,10286,10078,10182,9974,9870,9860,9865,9862,9863,9864,9861,9867,9866,9868,9869,9855,9857,9856,9858,9859,9852,9853,9854,9851', '10786,10266,10474,10370,10578,10682,10058,10162,9954,9850', '5350,5870,5558,5662,5766,5454,6078,5974,6182,6286,6390,6397,6393,6395,6394,6396,6391,6392,6401,6399,6400,6398,6403,6402,6404,6405,5885,6093,5989,6197,6301,5573,5677,5781,5469,5365,5357,5361,5359,5360,5358,5363,5362,5364,5353,5355,5354,5356,5351,5352', '5408,5824,5616,5720,5512,6032,5928,6136,6240,6245,6242,6243,6244,6241,6247,6246,6248,6249,6250,5834,6042,5938,6146,5626,5730,5522,5418,5413,5415,5414,5416,5417,5410,5411,5412,5409', '5512,3224,4368,3744,4056,3848,3952,4160,4264,3432,3536,3640,3328,4888,4576,4680,4784,4472,5200,4992,5096,5304,5408,2080,2600,2288,2392,2496,2184,2912,2704,2808,3016,3120,1560,1768,1664,1872,1976,1248,1352,1456,1144,1040,1045,1042,1043,1044,1041,1048,1046,1047,1049,1050,1051', '4795,3651,4171,3859,3963,4067,3755,4483,4275,4379,4587,4691,3131,3339,3235,3443,3547,2819,2923,3027,2715,2611,2605,2608,2606,2607,2609,2610,2602,2603,2604,2601,2600', '3125,3749,3437,3541,3645,3229,3333,4061,3853,3957,4269,4165,4373,4477', '4483,4487,4485,4486,4484,4489,4488,4490,4491,4492,4180,4284,4388,4076,3972,3974,3973,3975,3976,3977,4185,4081,4289,4393,4497,4501,4499,4500,4498,4503,4502,4504,4505,4506,2218,3362,2738,3050,2842,2946,3154,3258,2426,2530,2634,2322,3882,3570,3674,3778,3466,4194,3986,4090,4298,4402,1074,1594,1282,1386,1490,1178,1906,1698,1802,2010,2114,554,762,658,866,970,242,346,450,138,34,22,28,25,26,27,23,24,31,29,30,32,33,16,19,17,18,20,21,13,14,15,12,11,1051,531,739,635,843,947,219,323,427,115,1571,1259,1363,1467,1155,1779,1675,1883,1987,2091', '4509,4507,4508,4506,2738,3570,3154,3362,3258,3466,2946,3050,2842,3986,3778,3882,3674,4194,4090,4298,4402,1906,2322,2114,2218,2010,2530,2426,2634,1490,1698,1594,1802,1282,1386,1178,1074,1084,1079,1081,1080,1082,1083,1076,1077,1078,1075,1089,1086,1087,1088,1085,1091,1090,1092,1093,1094,2758,1926,2342,2134,2238,2030,2550,2446,2654,1510,1718,1614,1822,1302,1406,1198,3590,3174,3382,3278,3486,2966,3070,2862,4006,3798,3902,3694,4214,4110,4318,4422,4526,4517,4521,4519,4520,4518,4523,4522,4524,4525,4513,4515,4514,4516,4511,4512,4510', '4526,4536,4531,4533,4532,4534,4535,4528,4529,4530,4527,4541,4538,4539,4540,4537,4543,4542,4544,4545,4546,2778,3610,3194,3402,3298,3506,2986,3090,2882,4026,3818,3922,3714,4234,4130,4338,4442,1946,2362,2154,2258,2050,2570,2466,2674,1530,1738,1634,1842,1322,1426,1218,1114,1104,1109,1106,1107,1108,1105,1111,1110,1112,1113,1099,1101,1100,1102,1103,1096,1097,1098,1095,1094,2758,1926,2342,2134,2238,2030,2550,2446,2654,1510,1718,1614,1822,1302,1406,1198,3590,3174,3382,3278,3486,2966,3070,2862,4006,3798,3902,3694,4214,4110,4318,4422', '2787,2782,2784,2783,2785,2786,2780,2781,2779,2778,1634,2154,1842,1946,2050,1738,2466,2258,2362,2570,2674,1114,1322,1218,1426,1530,802,906,1010,698,594,600,597,598,599,595,596,603,601,602,605,604,606,607,1647,1127,1335,1231,1439,1543,815,919,1023,711,2167,1855,1959,2063,1751,2479,2271,2375,2583,2687,2791', '2163,2161,2162,2160,2159,1639,1847,1743,1951,2055,1431,1535,1327,1223,1225,1224,1226,1227,1643,1435,1539,1331,1851,1747,1955,2059', '3414,3416,3415,3417,3418,3419', '3417,3625,3521,3729,3833,3831,3832,3830,4142,3934,4038,4350,4246,4454,4558,4565,4561,4563,4562,4564,4559,4560,4568,4566,4567,4570,4569,4571,4572,3948,4260,4052,4156,4364,4468,3636,3740,3844,3532,3428', '4468,4988,4676,4780,4884,4572,5196,5092,5300,5404,5508', '3419,3107,3211,3315,2899,3003,2795,2799,2797,2798,2796,2801,2800,2802,2803,2804,3116,2908,3012,3220,3324,3428,3423,3425,3424,3426,3427,3421,3422,3420', '2791,2797,2794,2795,2796,2792,2793,2800,2798,2799,2802,2801,2803,2804,1972,2388,2180,2284,2076,2596,2492,2700,1556,1764,1660,1868,1348,1452,1244,1140,1133,1136,1134,1135,1138,1137,1139,1130,1131,1132,1128,1129,1127', '9210,9231,9220,9225,9222,9223,9224,9221,9228,9226,9227,9229,9230,9215,9217,9216,9218,9219,9212,9213,9214,9211,9241,9236,9238,9237,9239,9240,9233,9234,9235,9232,9246,9243,9244,9245,9242,9249,9247,9248,9250,9251,9252,9980,9564,9772,9668,9876,9356,9460,10396,10188,10292,10084,10604,10500,10708,10812,10801,10806,10803,10804,10805,10802,10809,10807,10808,10810,10811,10796,10798,10797,10799,10800,10793,10794,10795,10792,10791', '6398,5878,6086,5982,6190,6294,5566,5670,5774,5462,5358', '', '8082,8078,8080,8079,8081,8076,8077,8075,8074,8594,8282,8386,8490,8178,8906,8698,8802,9010,9114,9218'], 'floorLength': 104, 'floorBreadth': 104, 'flr_dist_matrix': ['0,44.041630560342604,140.32590180780443,52.041630560342604,96.6274169979695,97.45584412271569,44.041630560342604,0,107.21320343559638,8,55.07106781186546,53.41421356237309,140.32590180780443,107.21320343559638,0,111.11269837220804,141.74011537017753,139.25483399593895,52.041630560342604,8,111.11269837220804,0,47.07106781186546,45.41421356237309,96.6274169979695,55.07106781186546,141.74011537017753,47.07106781186546,0,6,97.45584412271569,53.41421356237309,139.25483399593895,45.41421356237309,6,0'], 'frConn': ['0,44.041630560342604,140.32590180780443,52.041630560342604,96.6274169979695,97.45584412271569,44.041630560342604,0,107.21320343559638,8,55.07106781186546,53.41421356237309,140.32590180780443,107.21320343559638,0,111.11269837220804,141.74011537017753,139.25483399593895,52.041630560342604,8,111.11269837220804,0,47.07106781186546,45.41421356237309,96.6274169979695,55.07106781186546,141.74011537017753,47.07106781186546,0,6,97.45584412271569,53.41421356237309,139.25483399593895,45.41421356237309,6,0'], 'clickedPoints': ['4795,2611,2600,2600', '2787,2778,594,607,2791,2791', '3417,3833,3830,4558,4572,3428,3428', '3419,2795,2804,3428,3419', '9210,9252,10812,10791,10791', '10786,9850,9850', '5350,6390,6405,5365,5350', '5408,6240,6250,5418,5408', '5512,1040,1051,1051', '9226,9252,5404,5378,9226', '10746,9082,9082', '9850,10266,10286,9870,9850', '3125,4477,4477', '4483,4492,3972,3977,4497,4506,34,11,2091,2091', '9162,5418,5442,9186,9162', '9185,9202,9202', '4526,4546,1114,1094,4526', '2163,2159,1223,1227,2163', '3414,3419,3419', '4468,5508,5508', '2791,2804,1140,1127,1127', '4509,4506,1074,1094,4526,4509', '6398,5358,5358', '8082,8074,9218,9218'], 'floorAngle': None, 'polygonId': ['5f06020-7067-eba-1450-3547b1b12c08', '2aed476-fc7b-4504-ff4a-567217e43e24', '8f58a20-7356-ed46-2a05-40a2ab2f', 'b0ed028-65a-ac15-e3de-e08d3013876', 'cf18d-faf1-a31-5243-12e31e180df2', 'be8fa43-a34e-0a58-c6af-741c3b8783d', '00548-605c-14e3-5026-b8532e7f3bf', '823d720-d00-cd5-aefd-632e7742be1', '1a6c88-d622-3421-ad84-11782c10e04', '0b767-a0a1-406c-538c-a102e2f13e3', '6e18dd-180d-cf56-0f1-ee0d1d0a74ff', '8ad4e36-060-7d6f-cef8-bc6ee3872dfd', 'cea44f-486a-7cf-ee81-d053380fe4c8', 'f252c-783-6420-02b2-eecbcbecae1', 'a7e2d00-42e4-75ef-8e14-fde617266eeb', 'a6caf2c-a63-6fe5-cc5-88134b8ada1', '51b5f2-7ee2-ad5f-f14-aeae56c020c', '2f56bb-b5-674e-3baa-077d1ed247', 'f011f0-e3b2-80b2-4f5-71574ac5ee5b', 'da21b5-fa8b-4b70-7145-34d812ea4e41', 'd43c27c-7e87-e80-132d-25ea543a1148', '255677f-c8e1-0d43-f080-ba80b02f123d', 'de2ba7b-ca0e-aa12-ed63-b807e716b', 'ac8a7b-c5a0-07d-60ab-fd8163b83b2', 'f62f5fe-c86-cc08-7c17-2d5524e51504']}}\n",
      "{'type': None, 'feature_type': None, 'coordinateX': -1, 'coordinateY': -1, 'geometryType': 'FLOOR', 'element': {'type': 'Floor', 'subType': None}, 'name': None, 'floor': 'first', 'properties': {'fileName': '004ef3cf-9294-4171-adc0-1554759d5400_IITCampus-ANSKSIT-first_1st Floor.png', 'nonWalkableGrids': ['9163,9891,9475,9683,9579,9787,9267,9371,10307,10099,10203,9995,10515,10411,10619,10723,10731,10727,10729,10728,10730,10725,10726,10724,10735,10733,10734,10732,10737,10736,10738,10739,10740,9908,10324,10116,10220,10012,10532,10428,10636,9492,9700,9596,9804,9284,9388,9180,9171,9175,9173,9174,9172,9177,9176,9178,9179,9167,9169,9168,9170,9165,9166,9164', '9706,10226,9914,10018,10122,9810,10434,10330,10538,10642,10746,10743,10744,10745,10741,10742,10740,10220,10428,10324,10532,10636,9908,10012,10116,9804,9700,9703,9701,9702,9704,9705', '9163,8435,8747,8539,8643,8955,8851,9059,8019,8227,8123,8331,7811,7915,7707,7715,7711,7713,7712,7714,7709,7710,7708,7719,7717,7718,7716,7721,7720,7722,7723,7724,8452,8036,8244,8140,8348,7828,7932,8764,8556,8660,8972,8868,9076,9180,9171,9175,9173,9174,9172,9177,9176,9178,9179,9167,9169,9168,9170,9165,9166,9164', '', '7707,6979,7291,7083,7187,7499,7395,7603,6563,6771,6667,6875,6355,6459,6251,6259,6255,6257,6256,6258,6253,6254,6252,6263,6261,6262,6260,6265,6264,6266,6267,6268,6996,6580,6788,6684,6892,6372,6476,7308,7100,7204,7516,7412,7620,7724,7715,7719,7717,7718,7716,7721,7720,7722,7723,7711,7713,7712,7714,7709,7710,7708', '6240,6760,6448,6552,6656,6344,6968,6864,7072,7176,7280,7285,7282,7283,7284,7281,7288,7286,7287,7289,7290,7291,6771,6979,6875,7083,7187,6459,6563,6667,6355,6251,6245,6248,6246,6247,6249,6250,6242,6243,6244,6241', '10746,8458,9602,8978,9290,9082,9186,9394,9498,8666,8770,8874,8562,10122,9810,9914,10018,9706,10434,10226,10330,10538,10642,7314,7834,7522,7626,7730,7418,8146,7938,8042,8250,8354,6794,7002,6898,7106,7210,6482,6586,6690,6378,6274,6294,6284,6289,6286,6287,6288,6285,6291,6290,6292,6293,6279,6281,6280,6282,6283,6276,6277,6278,6275,6304,6299,6301,6300,6302,6303,6296,6297,6298,6295,6309,6306,6307,6308,6305,6312,6310,6311,6313,6314,6315,8499,7355,7875,7563,7667,7771,7459,8187,7979,8083,8291,8395,6835,7043,6939,7147,7251,6523,6627,6731,6419,9643,9019,9331,9123,9227,9435,9539,8707,8811,8915,8603,10163,9851,9955,10059,9747,10475,10267,10371,10579,10683,10787,10766,10776,10771,10773,10772,10774,10775,10768,10769,10770,10767,10781,10778,10779,10780,10777,10784,10782,10783,10785,10786,10756,10761,10758,10759,10760,10757,10763,10762,10764,10765,10751,10753,10752,10754,10755,10748,10749,10750,10747', '6287,6807,6495,6599,6703,6391,7015,6911,7119,7223,7327,7334,7330,7332,7331,7333,7328,7329,7338,7336,7337,7335,7340,7339,7341,7342,6822,7030,6926,7134,7238,6510,6614,6718,6406,6302,6294,6298,6296,6297,6295,6300,6299,6301,6290,6292,6291,6293,6288,6289', '5339,3259,4299,3779,3987,3883,4091,4195,3467,3571,3675,3363,4819,4507,4611,4715,4403,5027,4923,5131,5235,2219,2739,2427,2531,2635,2323,2947,2843,3051,3155,1699,1907,1803,2011,2115,1491,1595,1387,1283,1290,1286,1288,1287,1289,1284,1285,1294,1292,1293,1291,1296,1295,1297,1298,3274,2234,2754,2442,2546,2650,2338,2962,2858,3066,3170,1714,1922,1818,2026,2130,1506,1610,1402,4314,3794,4002,3898,4106,4210,3482,3586,3690,3378,4834,4522,4626,4730,4418,5042,4938,5146,5250,5354,5346,5350,5348,5349,5347,5352,5351,5353,5342,5344,5343,5345,5340,5341', '5366,4430,4846,4638,4742,4534,5054,4950,5158,5262,4014,4222,4118,4326,3806,3910,3702,3598,3604,3601,3602,3603,3599,3600,3607,3605,3606,3609,3608,3610,3611,4443,4027,4235,4131,4339,3819,3923,3715,4859,4651,4755,4547,5067,4963,5171,5275,5379,5372,5375,5373,5374,5377,5376,5378,5369,5370,5371,5367,5368', '5354,3898,4626,4210,4418,4314,4522,4002,4106,4938,4730,4834,5146,5042,5250,3170,3482,3274,3378,3690,3586,3794,2754,2962,2858,3066,2546,2650,2442,2448,2445,2446,2447,2443,2444,2451,2449,2450,2452,2453,2454,3910,3182,3494,3286,3390,3702,3598,3806,2766,2974,2870,3078,2558,2662,4638,4222,4430,4326,4534,4014,4118,4950,4742,4846,5158,5054,5262,5366,5362,5364,5363,5365,5360,5361,5359,5358', '2442,2448,2445,2446,2447,2443,2444,2451,2449,2450,2452,2453,2454,1830,2142,1934,2038,2246,2350,1518,1622,1726,1414,1310,1304,1307,1305,1306,1308,1309,1301,1302,1303,1299,1300,1298,1818,1506,1610,1714,1402,2130,1922,2026,2234,2338', '3598,2454,2974,2662,2766,2870,2558,3286,3078,3182,3390,3494,1830,2142,1934,2038,2246,2350,1518,1622,1726,1414,1310,1316,1313,1314,1315,1311,1312,1319,1317,1318,1321,1320,1322,1323,2467,1843,2155,1947,2051,2259,2363,1531,1635,1739,1427,2987,2675,2779,2883,2571,3299,3091,3195,3403,3507,3611,3604,3607,3605,3606,3609,3608,3610,3601,3602,3603,3599,3600', '5205,4373,4789,4581,4685,4477,4997,4893,5101,3957,4165,4061,4269,3749,3853,3645,3646,3647,4375,3959,4167,4063,4271,3751,3855,4791,4583,4687,4479,4999,4895,5103,5207,5206', '3120,3125,3122,3123,3124,3121,3128,3126,3127,3129,3130,3131', '6251,6147,6043', '10787,10267,10475,10371,10579,10683,9955,10059,10163,9851,9747,9750,9748,9749,9751,9752,9753,10273,9961,10065,10169,9857,10481,10377,10585,10689,10793,10790,10791,10792,10788,10789', '', '2579,2577,2578,2576,2575,2055,2263,2159,2367,2471,1743,1847,1951,1639,1535,1537,1536,1538,1539,2059,1747,1851,1955,1643,2267,2163,2371,2475', '1440,1446,1443,1444,1445,1441,1442,1449,1447,1448,1451,1450,1452,1453,2389,1869,2077,1973,2181,2285,1661,1765,1557,2805,2597,2701,2493,3013,2909,3117,3221,3325,3318,3321,3319,3320,3323,3322,3324,3315,3316,3317,3313,3314,3312', '3315,3627,3419,3523,3731,3835,3939,3944,3941,3942,3943,3940,3946,3945,3947,3948,3949,3637,3741,3845,3429,3533,3325,3320,3322,3321,3323,3324,3317,3318,3319,3316', '3935,3937,3936,3938,3939,4147,4043,4251,4355,4459,4457,4458,4456,4455', '5391,4871,5079,4975,5183,5287,4663,4767,4559,4455,4457,4456,4458,4459,4147,4251,4355,4043,3939,3944,3941,3942,3943,3940,3946,3945,3947,3948,3949,4677,4261,4469,4365,4573,4053,4157,4989,4781,4885,5197,5093,5301,5405,5398,5401,5399,5400,5403,5402,5404,5394,5396,5395,5397,5392,5393', '5405,5925,5613,5717,5821,5509,6133,6029,6237,6341,6445', '6321,7049,6633,6841,6737,6945,6425,6529,7465,7257,7361,7153,7673,7569,7777,7881,7891,7886,7888,7887,7889,7890,7883,7884,7885,7882,7896,7893,7894,7895,7892,7898,7897,7899,7900,7901,7069,7485,7277,7381,7173,7693,7589,7797,6653,6861,6757,6965,6445,6549,6341,6331,6336,6333,6334,6335,6332,6338,6337,6339,6340,6326,6328,6327,6329,6330,6323,6324,6325,6322', '9233,9961,9545,9753,9649,9857,9337,9441,10377,10169,10273,10065,10585,10481,10689,10793,10803,10798,10800,10799,10801,10802,10795,10796,10797,10794,10808,10805,10806,10807,10804,10810,10809,10811,10812,10813,9981,10397,10189,10293,10085,10605,10501,10709,9565,9773,9669,9877,9357,9461,9253,9243,9248,9245,9246,9247,9244,9250,9249,9251,9252,9238,9240,9239,9241,9242,9235,9236,9237,9234', '7881,8505,8193,8297,8401,7985,8089,8817,8609,8713,9025,8921,9129,9233,9243,9238,9240,9239,9241,9242,9235,9236,9237,9234,9248,9245,9246,9247,9244,9250,9249,9251,9252,9253,8525,8837,8629,8733,9045,8941,9149,8213,8317,8421,8005,8109,7901,7891,7896,7893,7894,7895,7892,7898,7897,7899,7900,7886,7888,7887,7889,7890,7883,7884,7885,7882', '5315,5327,5321,5324,5322,5323,5325,5326,5318,5319,5320,5316,5317,5333,5330,5331,5332,5328,5329,5336,5334,5335,5337,5338,5339,3259,4299,3779,3987,3883,4091,4195,3467,3571,3675,3363,4819,4507,4611,4715,4403,5027,4923,5131,5235,2219,2739,2427,2531,2635,2323,2947,2843,3051,3155,1699,1907,1803,2011,2115,1491,1595,1387,1283,1271,1277,1274,1275,1276,1272,1273,1280,1278,1279,1281,1282,1265,1268,1266,1267,1269,1270,1262,1263,1264,1260,1261,1259,3235,2195,2715,2403,2507,2611,2299,2923,2819,3027,3131,1675,1883,1779,1987,2091,1467,1571,1363,4275,3755,3963,3859,4067,4171,3443,3547,3651,3339,4795,4483,4587,4691,4379,5003,4899,5107,5211', '1259,1253,1256,1254,1255,1257,1258,1250,1251,1252,1249,1248,3744,2496,3120,2808,2912,3016,2600,2704,3432,3224,3328,3536,3640,1872,2184,1976,2080,2288,2392,1560,1664,1768,1352,1456,4992,4368,4680,4472,4576,4784,4888,4056,4160,4264,3848,3952,5616,5304,5408,5512,5096,5200,5928,5720,5824,6136,6032,6240,6344', '3312,2272,2792,2480,2584,2688,2376,3000,2896,3104,3208,1752,1960,1856,2064,2168,1544,1648,1440,1336,1329,1332,1330,1331,1334,1333,1335,1326,1327,1328,1324,1325,1323,2259,1739,1947,1843,2051,2155,1531,1635,1427,2779,2467,2571,2675,2363,2987,2883,3091,3195,3299,3303,3301,3302,3300,3305,3304,3306,3307', '8157,8166,8161,8163,8162,8164,8165,8159,8160,8158,8170,8168,8169,8167,8172,8171,8173,8174,8175', '6295,6815,6503,6607,6711,6399,7023,6919,7127,7231,7335'], 'floorLength': 104, 'floorBreadth': 104, 'flr_dist_matrix': ['0,101.6274169979695,55.0416305603426,55.0416305603426,48.0416305603426,99.14213562373095,99.14213562373095,101.6274169979695,0,48.24264068711928,48.24264068711928,55.24264068711928,6,6,55.0416305603426,48.24264068711928,0,0,7,49.899494936611646,49.899494936611646,55.0416305603426,48.24264068711928,0,0,7,49.899494936611646,49.899494936611646,48.0416305603426,55.24264068711928,7,7,0,56.899494936611646,56.899494936611646,99.14213562373095,6,49.899494936611646,49.899494936611646,56.899494936611646,0,0,99.14213562373095,6,49.899494936611646,49.899494936611646,56.899494936611646,0,0'], 'frConn': ['0,101.6274169979695,55.0416305603426,55.0416305603426,48.0416305603426,99.14213562373095,99.14213562373095,101.6274169979695,0,48.24264068711928,48.24264068711928,55.24264068711928,6,6,55.0416305603426,48.24264068711928,0,0,7,49.899494936611646,49.899494936611646,55.0416305603426,48.24264068711928,0,0,7,49.899494936611646,49.899494936611646,48.0416305603426,55.24264068711928,7,7,0,56.899494936611646,56.899494936611646,99.14213562373095,6,49.899494936611646,49.899494936611646,56.899494936611646,0,0,99.14213562373095,6,49.899494936611646,49.899494936611646,56.899494936611646,0,0'], 'clickedPoints': ['5205,3645,3647,5207,5205', '6251,6043,6043', '2579,2575,1535,1539,2579', '5391,4455,4459,3939,3949,5405,5391', '5405,6445,6445', '7881,9233,9253,7901,7881', '9233,10793,10813,9253,9233', '5315,5339,1283,1259,5315', '1259,1248,6344,6344', '1440,1453,3325,3312,3312', '3315,3939,3949,3325,3315', '3312,1336,1323,3299,3307,3307', '5354,2442,2454,5366,5358,5358', '2442,2454,1310,1298,2442', '3598,1310,1323,3611,3598', '9706,10746,10740,9700,9706', '9163,7707,7724,9180,9163', '10746,6274,6315,10787,10746', '6287,7327,7342,6302,6287', '5339,1283,1298,5354,5339', '5366,3598,3611,5379,5366', '3120,3131,3131', '3935,3939,4459,4455,4455', '6321,7881,7901,6341,6321', '9163,10723,10740,9180,9163', '7707,6251,6268,7724,7707', '6240,7280,7291,6251,6240', '10787,9747,9753,10793,10787', '5354,2442,2454,5366,5358,5358', '2442,2454,1310,1298,2442', '3598,1310,1323,3611,3598', '9706,10746,10740,9700,9706', '9163,7707,7724,9180,9163', '6287,7327,7342,6302,6287', '5339,1283,1298,5354,5339', '5366,3598,3611,5379,5366', '9163,10723,10740,9180,9163', '7707,6251,6268,7724,7707', '6295,7335,7335'], 'floorAngle': None, 'polygonId': ['bd77a7-f666-140-842-23a418674b17', '6bdd1c-fd2-21c7-a62-36b5f65c62e7', 'fc432b3-67c4-4310-aa00-e532c4cabec', '657bdb0-a5c8-f371-51a-45b73caab8a2', 'e0c4a3-65ae-b37d-87e-85871754b85', 'a5bce42-3f20-72de-1f25-47df6781824', '8c0a8e-372-dfc6-2e5d-e75ad81afcf', 'ee08312-5888-b335-b47e-5fdaec0b2', 'aa1273b-c018-d862-278b-01134472ada', '5faf1-640c-f2-5bd8-dd1af1a1b6d', 'bfb0ce-21f-160b-b5d6-2d7f7e7f6e2', '55b3afb-c3d8-821-c24b-c4c50fcce0cf', 'ccb65f4-4462-1f72-cccf-f6736a0134', '8c3cc8-b7b-264b-e1bf-001ef41db1b0', 'fac3a4-86b-5d5-b2c-dbef6d45e681', '1e6bdac-083-dd82-e3a1-a4adeac61b1', '01f75e2-acb1-cbb5-1dca-b763a465f37', '0af65d1-720f-47a3-c3da-c58b366a6e7', 'ee763f4-de4a-430e-a07f-ab35464cc12', 'ce77c03-06d8-e742-f1ce-2a77376acbb', '72cc4a-fee-7bda-d454-1b2e7d1005d', '2e224f-d4-81e5-388-57c815daf5d1', '248415d-4d28-deeb-bc1-ab1e348b8684', '0b26a8-26e3-634-d26e-fc0d84321ad3', 'e50fd-558e-2d30-57a0-d6338eb7f82b', '686318-d5b3-5ec3-1d0-8ff3d8ab128', 'a3c6052-b3-54ea-d0f6-44211e82fc7', 'da1a24-bbcb-7c4f-66e-26a116ebe672', 'e03e76-2c4c-d67d-e8e3-55da702a42e', 'bd43bed-6ed-b8b5-ddc1-2f6ec1d78b6', 'b58a7-21a-0ac-123a-5afecbb23b4', '1e75327-1e0b-65cc-a81-2617870a03ad']}}\n",
      "{'type': None, 'feature_type': None, 'coordinateX': -1, 'coordinateY': -1, 'geometryType': 'FLOOR', 'element': {'type': 'Floor', 'subType': None}, 'name': None, 'floor': 'second', 'properties': {'fileName': '004ef3cf-9294-4171-adc0-1554759d5400_IITCampus-ANSKSIT-second_2nd Floor.png', 'nonWalkableGrids': ['6294,6710,6502,6606,6398,6918,6814,7022,7126,7230,7233,7231,7232,7235,7234,7236,7237,6717,6925,6821,7029,7133,6509,6613,6405,6301,6297,6299,6298,6300,6295,6296', '6286,6702,6494,6598,6390,6910,6806,7014,7118,7222,7226,7224,7225,7223,7228,7227,7229,7230,6710,6918,6814,7022,7126,6502,6606,6398,6294,6290,6292,6291,6293,6288,6289,6287', '5205,4373,4789,4581,4685,4477,4997,4893,5101,3957,4165,4061,4269,3749,3853,3645,3541,3542,3543,4375,3959,4167,4063,4271,3751,3855,3647,4791,4583,4687,4479,4999,4895,5103,5207,5206', '9162,8434,8746,8538,8642,8954,8850,9058,8018,8226,8122,8330,7810,7914,7706,7714,7710,7712,7711,7713,7708,7709,7707,7718,7716,7717,7715,7720,7719,7721,7722,7723,8451,8035,8243,8139,8347,7827,7931,8763,8555,8659,8971,8867,9075,9179,9170,9174,9172,9173,9171,9176,9175,9177,9178,9166,9168,9167,9169,9164,9165,9163', '7706,6978,7290,7082,7186,7498,7394,7602,6562,6770,6666,6874,6354,6458,6250,6258,6254,6256,6255,6257,6252,6253,6251,6262,6260,6261,6259,6264,6263,6265,6266,6267,6995,6579,6787,6683,6891,6371,6475,7307,7099,7203,7515,7411,7619,7723,7714,7718,7716,7717,7715,7720,7719,7721,7722,7710,7712,7711,7713,7708,7709,7707', '6240,6760,6448,6552,6656,6344,6968,6864,7072,7176,7280,7285,7282,7283,7284,7281,7287,7286,7288,7289,7290,6770,6978,6874,7082,7186,6458,6562,6666,6354,6250,6245,6247,6246,6248,6249,6242,6243,6244,6241', '6240,4576,5408,4992,5200,5096,5304,4784,4888,4680,5824,5616,5720,5512,6032,5928,6136,3744,4160,3952,4056,3848,4368,4264,4472,3328,3536,3432,3640,3120,3224,3016,3021,3018,3019,3020,3017,3024,3022,3023,3025,3026,3027,4171,3547,3859,3651,3755,3963,4067,3235,3339,3443,3131,4795,4483,4587,4691,4275,4379,5107,4899,5003,5211,5315,5419', '6043,6147,6251', '9699,10115,9907,10011,9803,10323,10219,10427,10531,10635,10639,10637,10638,10636,10641,10640,10642,10643,10123,10331,10227,10435,10539,9915,10019,9811,9707,9703,9705,9704,9706,9701,9702,9700', '9707,7939,8771,8355,8563,8459,8667,8147,8251,8043,9187,8979,9083,8875,9395,9291,9499,9603,7107,7523,7315,7419,7211,7731,7627,7835,6691,6899,6795,7003,6483,6587,6379,6275,6295,6285,6290,6287,6288,6289,6286,6292,6291,6293,6294,6280,6282,6281,6283,6284,6277,6278,6279,6276,6305,6300,6302,6301,6303,6304,6297,6298,6299,6296,6310,6307,6308,6309,6306,6313,6311,6312,6314,6315,6316,8500,7356,7876,7564,7668,7772,7460,8188,7980,8084,8292,8396,6836,7044,6940,7148,7252,6524,6628,6732,6420,9540,9020,9228,9124,9332,9436,8708,8812,8916,8604,10060,9748,9852,9956,9644,10372,10164,10268,10476,10580,10684', '6342,5718,6030,5822,5926,6134,6238,5406,5510,5614,5302,5198,5191,5194,5192,5193,5196,5195,5197,5187,5189,5188,5190,5185,5186,5184', '5184,5191,5187,5189,5188,5190,5185,5186,5194,5192,5193,5196,5195,5197,5198,4574,4886,4678,4782,4990,5094,4262,4366,4470,4158,4054,4048,4051,4049,4050,4052,4053,4045,4046,4047,4044,4043,4251,4147,4355,4459,4457,4458,4456,4768,4560,4664,4976,4872,5080', '4456,4457,4458,4459,4251,4355,4147,4043,4041,4042,4040', '4040,4047,4043,4045,4044,4046,4041,4042,4050,4048,4049,4052,4051,4053,4054,3638,3846,3742,3950,3430,3534,3326,3321,3323,3322,3324,3325,3319,3320,3318,3317,3629,3421,3525,3837,3733,3941', '3313,3319,3316,3317,3318,3314,3315,3322,3320,3321,3324,3323,3325,3326,2390,2806,2598,2702,2494,3014,2910,3118,3222,1870,2078,1974,2182,2286,1662,1766,1558,1454,1447,1450,1448,1449,1452,1451,1453,1444,1445,1446,1442,1443,1441,2377,1857,2065,1961,2169,2273,1649,1753,1545,2793,2585,2689,2481,3001,2897,3105,3209', '2681,2682,2683,2684,2164,2372,2268,2476,2580,1852,1956,2060,1748,1644,1642,1643,1641,2161,1849,1953,2057,1745,2369,2265,2473,2577', '3204,3200,3202,3201,3203,3198,3199,3197,3196,2156,2676,2364,2468,2572,2260,2884,2780,2988,3092,1636,1844,1740,1948,2052,1428,1532,1324,1220,1226,1223,1224,1225,1221,1222,1229,1227,1228,1231,1230,1232,1233,2169,1649,1857,1753,1961,2065,1441,1545,1337,2689,2377,2481,2585,2273,2897,2793,3001,3105,3209', '', '', '', '', '9179,9170,9174,9172,9173,9171,9176,9175,9177,9178,9166,9168,9167,9169,9164,9165,9163,9162,9890,9474,9682,9578,9786,9266,9370,10202,9994,10098,10410,10306,10514,10618,10626,10622,10624,10623,10625,10620,10621,10619,10630,10628,10629,10627,10632,10631,10633,10634,10635,9907,10219,10011,10115,10427,10323,10531,9491,9699,9595,9803,9283,9387', '5315,3235,4275,3755,3963,3859,4067,4171,3443,3547,3651,3339,4795,4483,4587,4691,4379,5003,4899,5107,5211,2195,2715,2403,2507,2611,2299,2923,2819,3027,3131,1675,1883,1779,1987,2091,1467,1571,1363,1259,1271,1265,1268,1266,1267,1269,1270,1262,1263,1264,1260,1261,1277,1274,1275,1276,1272,1273,1280,1278,1279,1281,1282,1283,3259,2219,2739,2427,2531,2635,2323,2947,2843,3051,3155,1699,1907,1803,2011,2115,1491,1595,1387,4299,3779,3987,3883,4091,4195,3467,3571,3675,3363,4819,4507,4611,4715,4403,5027,4923,5131,5235,5339,5327,5333,5330,5331,5332,5328,5329,5336,5334,5335,5337,5338,5321,5324,5322,5323,5325,5326,5318,5319,5320,5316,5317', '1283,3259,2219,2739,2427,2531,2635,2323,2947,2843,3051,3155,1699,1907,1803,2011,2115,1491,1595,1387,4299,3779,3987,3883,4091,4195,3467,3571,3675,3363,4819,4507,4611,4715,4403,5027,4923,5131,5235,5339,5349,5344,5346,5345,5347,5348,5341,5342,5343,5340,5354,5351,5352,5353,5350,5356,5355,5357,5358,5359,3279,4319,3799,4007,3903,4111,4215,3487,3591,3695,3383,4839,4527,4631,4735,4423,5047,4943,5151,5255,2239,2759,2447,2551,2655,2343,2967,2863,3071,3175,1719,1927,1823,2031,2135,1511,1615,1407,1303,1293,1298,1295,1296,1297,1294,1300,1299,1301,1302,1288,1290,1289,1291,1292,1285,1286,1287,1284', '1303,3279,2239,2759,2447,2551,2655,2343,2967,2863,3071,3175,1719,1927,1823,2031,2135,1511,1615,1407,4319,3799,4007,3903,4111,4215,3487,3591,3695,3383,4839,4527,4631,4735,4423,5047,4943,5151,5255,5359,5369,5364,5366,5365,5367,5368,5361,5362,5363,5360,5374,5371,5372,5373,5370,5377,5375,5376,5378,5379,5380,3300,4340,3820,4028,3924,4132,4236,3508,3612,3716,3404,4860,4548,4652,4756,4444,5068,4964,5172,5276,2260,2780,2468,2572,2676,2364,2988,2884,3092,3196,1740,1948,1844,2052,2156,1532,1636,1428,1324,1313,1318,1315,1316,1317,1314,1321,1319,1320,1322,1323,1308,1310,1309,1311,1312,1305,1306,1307,1304', '10684,10687,10685,10686,10689,10688,10690,10691,10275,10483,10379,10587,10067,10171,9963,9859,9855,9857,9856,9858,9853,9854,9852,10268,10060,10164,9956,10476,10372,10580', '9235,9963,9547,9755,9651,9859,9339,9443,10275,10067,10171,10483,10379,10587,10691,10700,10695,10697,10696,10698,10699,10693,10694,10692,10705,10702,10703,10704,10701,10707,10706,10708,10709,10710,9982,10294,10086,10190,10502,10398,10606,9566,9774,9670,9878,9358,9462,9254,9244,9249,9246,9247,9248,9245,9251,9250,9252,9253,9239,9241,9240,9242,9243,9237,9238,9236', '7883,8507,8195,8299,8403,7987,8091,8819,8611,8715,9027,8923,9131,9235,9244,9239,9241,9240,9242,9243,9237,9238,9236,9249,9246,9247,9248,9245,9251,9250,9252,9253,9254,8526,8838,8630,8734,9046,8942,9150,8214,8318,8422,8006,8110,7902,7892,7897,7894,7895,7896,7893,7899,7898,7900,7901,7887,7889,7888,7890,7891,7885,7886,7884', '6323,7051,6635,6843,6739,6947,6427,6531,7467,7259,7363,7155,7675,7571,7779,7883,7892,7887,7889,7888,7890,7891,7885,7886,7884,7897,7894,7895,7896,7893,7899,7898,7900,7901,7902,7070,7486,7278,7382,7174,7694,7590,7798,6654,6862,6758,6966,6446,6550,6342,6332,6337,6334,6335,6336,6333,6339,6338,6340,6341,6327,6329,6328,6330,6331,6325,6326,6324', '3016,2080,2496,2288,2392,2184,2704,2600,2808,2912,1664,1872,1768,1976,1456,1560,1352,1248,1253,1250,1251,1252,1249,1256,1254,1255,1257,1258,1259', '', ''], 'floorLength': 104, 'floorBreadth': 104, 'flr_dist_matrix': ['0,0,0,8.414213562373096,57.0416305603426,46.485281374238554,46.24264068711928,0,0,0,8.414213562373096,57.0416305603426,46.485281374238554,46.24264068711928,0,0,0,8.414213562373096,57.0416305603426,46.485281374238554,46.24264068711928,8.414213562373096,8.414213562373096,8.414213562373096,0,48.6274169979695,54.07106781186546,53.828427124746185,57.0416305603426,57.0416305603426,57.0416305603426,48.6274169979695,0,98.55634918610404,101.6274169979695,46.485281374238554,46.485281374238554,46.485281374238554,54.07106781186546,98.55634918610404,0,5.414213562373095,46.24264068711928,46.24264068711928,46.24264068711928,53.828427124746185,101.6274169979695,5.414213562373095,0'], 'frConn': ['0,0,0,8.414213562373096,57.0416305603426,46.485281374238554,46.24264068711928,0,0,0,8.414213562373096,57.0416305603426,46.485281374238554,46.24264068711928,0,0,0,8.414213562373096,57.0416305603426,46.485281374238554,46.24264068711928,8.414213562373096,8.414213562373096,8.414213562373096,0,48.6274169979695,54.07106781186546,53.828427124746185,57.0416305603426,57.0416305603426,57.0416305603426,48.6274169979695,0,98.55634918610404,101.6274169979695,46.485281374238554,46.485281374238554,46.485281374238554,54.07106781186546,98.55634918610404,0,5.414213562373095,46.24264068711928,46.24264068711928,46.24264068711928,53.828427124746185,101.6274169979695,5.414213562373095,0'], 'clickedPoints': ['2681,2684,1644,1641,2681', '9179,9162,10618,10635,9179', '3313,3326,1454,1441,3313', '6294,7230,7237,6301,6294', '1283,5339,5359,1303,1283', '7883,9235,9254,7902,7883', '5184,5198,4054,4043,4459,4456,5184', '5205,3541,3543,5207,5205', '6286,7222,7230,6294,6286', '7706,6250,6267,7723,7706', '6240,7280,7290,6250,6240', '6240,3016,3027,5419,5419', '6043,6251,6251', '9707,6275,6316,10684,10684', '6342,5198,5184,5184', '5315,1259,1283,5339,5315', '9162,7706,7723,9179,9162', '9699,10635,10643,9707,9699', '3204,3196,1220,1233,3209,3209', '10684,10691,9859,9852,10684', '1303,5359,5380,1324,1303', '6323,7883,7902,6342,6323', '4456,4459,4043,4040,4040', '4040,4054,3326,3317,4045,4045', '9235,10691,10710,9254,9235', '3016,1248,1259,1259'], 'floorAngle': None, 'polygonId': ['3ffc02-fff4-77f-5c0-d024d5b526', '25adb4-8fce-2d4-1b5-ab01ecd0014', 'f37feb-4e1b-834-7d5-234a8835df0a', '4004ca-8c75-acdf-0a4-e523ed55817', 'f1cf30b-b851-740-28d2-c40c028ab78', '046f60-be81-76d4-e78c-887bf4a7bee3', 'cc2fd0e-4e4f-c172-81ac-e2dfe1c1cc60', 'b2548ed-b2dd-070-42a8-07c7f0fadaa0', 'c80d733-a04b-08b-dc1d-ba0f7408b63', '8e552c3-6ae6-c03b-4e81-d5f63daeaaee', '466b5b4-b0aa-cc21-5f15-85ba31fc644', '40c127-8172-5302-4bfd-f3086d6f2b1f', '37b520e-604e-843a-5213-735657fad255', '01dfb8-316c-582-7e35-2c1b46457a', 'eb331f2-5cae-4187-743-5666f52d7e1', '66d16a-10b3-fd5-5c31-255c3144cb8', '3ad8e62-b304-c181-6fde-c118c764e0c', '1bf333e-c7e-48b7-5e3-e76c217eadf8', '57276-118-622-82f0-5b3dcfb225c', 'ba20a7c-5df-f42-7a04-448b120b8', '58beac-c3d-1b40-27c1-e7cc0fd2f2ec', 'a756e64-1a0f-f402-f0c4-47f13bd4a473', 'db5dd46-ca05-fe6-3eb2-acd02bdb14d3', 'fc7ee85-aac5-ce23-34aa-0285f6ae8386', '2487554-f801-6bcb-d65d-66882c7b24', '57a4a-8e48-0ae3-068a-f16de650bbcc', 'a634fd0-3dbc-3312-b6a-a376faa8ede8', 'c22cf87-1e7f-3fc2-c0da-4a6f013588c7', 'df43ce-c1f0-f6b-b3d6-0143310b0e', '2df654-18f0-6002-33ab-7efa0110f4a3', '246bca3-22c1-42c8-2acd-335c0ed53a75', 'a05086-753e-876f-1760-42c8b15efa']}}\n",
      "{'type': None, 'feature_type': None, 'coordinateX': -1, 'coordinateY': -1, 'geometryType': 'FLOOR', 'element': {'type': 'Floor', 'subType': None}, 'name': None, 'floor': 'third', 'properties': {'fileName': '004ef3cf-9294-4171-adc0-1554759d5400_IITCampus-ANSKSIT-third_3rd%20Floor.png', 'nonWalkableGrids': ['6625,6647,6636,6641,6638,6639,6640,6637,6644,6642,6643,6645,6646,6630,6633,6631,6632,6634,6635,6627,6628,6629,6626,6658,6652,6655,6653,6654,6656,6657,6649,6650,6651,6648,6663,6660,6661,6662,6659,6666,6664,6665,6667,6668,6669,8937,7749,8289,7965,8073,8181,7857,8613,8397,8505,8721,8829,7209,7425,7317,7533,7641,6885,6993,7101,6777,10017,9477,9693,9585,9801,9909,9153,9261,9369,9045,10557,10233,10341,10449,10125,10881,10665,10773,10989,11097,11205', '5653,3601,4573,4033,4249,4141,4357,4465,3817,3925,3709,5113,4789,4897,5005,4681,5329,5221,5437,5545,2521,3061,2737,2845,2953,2629,3277,3169,3385,3493,1981,2197,2089,2305,2413,1765,1873,1657,1549,1560,1554,1557,1555,1556,1558,1559,1551,1552,1553,1550,1565,1562,1563,1564,1561,1568,1566,1567,1569,1570,1571,3623,2543,3083,2759,2867,2975,2651,3299,3191,3407,3515,2003,2219,2111,2327,2435,1787,1895,1679,4595,4055,4271,4163,4379,4487,3839,3947,3731,5135,4811,4919,5027,4703,5351,5243,5459,5567,5675,5664,5669,5666,5667,5668,5665,5672,5670,5671,5673,5674,5658,5661,5659,5660,5662,5663,5655,5656,5657,5654', '5675,3623,4595,4055,4271,4163,4379,4487,3839,3947,3731,5135,4811,4919,5027,4703,5351,5243,5459,5567,2543,3083,2759,2867,2975,2651,3299,3191,3407,3515,2003,2219,2111,2327,2435,1787,1895,1679,1571,1582,1576,1579,1577,1578,1580,1581,1573,1574,1575,1572,1587,1584,1585,1586,1583,1590,1588,1589,1591,1592,1593,3645,2565,3105,2781,2889,2997,2673,3321,3213,3429,3537,2025,2241,2133,2349,2457,1809,1917,1701,4617,4077,4293,4185,4401,4509,3861,3969,3753,5157,4833,4941,5049,4725,5373,5265,5481,5589,5697,5686,5691,5688,5689,5690,5687,5694,5692,5693,5695,5696,5680,5683,5681,5682,5684,5685,5677,5678,5679,5676', '1593,1161,1377,1269,1485,945,1053,837,844,840,842,841,843,838,839,848,846,847,845,850,849,851,852,2040,1392,1716,1500,1608,1824,1932,1068,1176,1284,960,2688,2364,2472,2580,2148,2256,3012,2796,2904,3120,3228,3336,3335', '3331,3326,3328,3327,3329,3330,3323,3324,3325,3322,3321', '2790,2788,2789,2787,2786,2030,2354,2138,2246,2570,2462,2678,1706,1814,1922,1490,1598,1382,1384,1383,1385,1386,1387,2035,1711,1819,1927,1495,1603,2359,2143,2251,2575,2467,2683,2791', '1608,1613,1610,1611,1612,1609,1616,1614,1615,1617,1618,1619,2483,2051,2267,2159,2375,1835,1943,1727,2915,2699,2807,2591,3131,3023,3239,3347,3341,3344,3342,3343,3345,3346,3338,3339,3340,3337,3336,2472,2904,2688,2796,2580,3120,3012,3228,2040,2256,2148,2364,1824,1932,1716', '4199,4205,4202,4203,4204,4200,4201,4208,4206,4207,4209,4210,4211,3779,3995,3887,4103,3563,3671,3455,3347,3343,3345,3344,3346,3341,3342,3340,3772,3556,3664,3448,3988,3880,4096', '4739,4740,4741,4742,4418,4526,4634,4310,4202', '5711,5171,5387,5279,5495,5603,4955,5063,4847,4739,4740,4741,4742,4418,4526,4634,4310,4202,4206,4204,4205,4203,4208,4207,4209,4210,4211,4967,4535,4751,4643,4859,4319,4427,5291,5075,5183,5507,5399,5615,5723,5717,5720,5718,5719,5721,5722,5714,5715,5716,5712,5713', '5723,6155,5939,6047,5831,6371,6263,6479,6587,6695', '6669,8937,7749,8289,7965,8073,8181,7857,8613,8397,8505,8721,8829,7209,7425,7317,7533,7641,6885,6993,7101,6777,10125,9477,9801,9585,9693,9909,10017,9153,9261,9369,9045,10665,10341,10449,10557,10233,10989,10773,10881,11097,11205,11313,11326,11319,11322,11320,11321,11324,11323,11325,11316,11317,11318,11314,11315,11332,11329,11330,11331,11327,11328,11335,11333,11334,11337,11336,11338,11339,8963,10151,9503,9827,9611,9719,9935,10043,9179,9287,9395,9071,10691,10367,10475,10583,10259,11015,10799,10907,11123,11231,7775,8315,7991,8099,8207,7883,8639,8423,8531,8747,8855,7235,7451,7343,7559,7667,6911,7019,7127,6803,6695,6682,6688,6685,6686,6687,6683,6684,6691,6689,6690,6693,6692,6694,6675,6678,6676,6677,6680,6679,6681,6672,6673,6674,6670,6671', '3324,4512,3864,4188,3972,4080,4296,4404,3540,3648,3756,3432,5052,4728,4836,4944,4620,5376,5160,5268,5484,5592,5700,5698,5699,5697', '6600,8868,7680,8220,7896,8004,8112,7788,8544,8328,8436,8652,8760,7140,7356,7248,7464,7572,6816,6924,7032,6708,10056,9408,9732,9516,9624,9840,9948,9084,9192,9300,8976,10596,10272,10380,10488,10164,10920,10704,10812,11028,11136,11244,11256,11250,11253,11251,11252,11254,11255,11247,11248,11249,11245,11246,11262,11259,11260,11261,11257,11258,11265,11263,11264,11267,11266,11268,11269,8893,10081,9433,9757,9541,9649,9865,9973,9109,9217,9325,9001,10621,10297,10405,10513,10189,10945,10729,10837,11053,11161,7705,8245,7921,8029,8137,7813,8569,8353,8461,8677,8785,7165,7381,7273,7489,7597,6841,6949,7057,6733,6625,6612,6618,6615,6616,6617,6613,6614,6621,6619,6620,6623,6622,6624,6606,6609,6607,6608,6610,6611,6603,6604,6605,6601,6602', '6384,6492,6600', '5628,3576,4548,4008,4224,4116,4332,4440,3792,3900,3684,5088,4764,4872,4980,4656,5304,5196,5412,5520,2496,3036,2712,2820,2928,2604,3252,3144,3360,3468,1956,2172,2064,2280,2388,1740,1848,1632,1524,1536,1530,1533,1531,1532,1534,1535,1527,1528,1529,1525,1526,1542,1539,1540,1541,1537,1538,1545,1543,1544,1547,1546,1548,1549,3601,2521,3061,2737,2845,2953,2629,3277,3169,3385,3493,1981,2197,2089,2305,2413,1765,1873,1657,4573,4033,4249,4141,4357,4465,3817,3925,3709,5113,4789,4897,5005,4681,5329,5221,5437,5545,5653,5640,5646,5643,5644,5645,5641,5642,5649,5647,5648,5651,5650,5652,5634,5637,5635,5636,5638,5639,5631,5632,5633,5629,5630', '3252,3246,3249,3247,3248,3250,3251,3243,3244,3245,3242,3241,4861,3997,4429,4213,4321,4105,4645,4537,4753,3565,3781,3673,3889,3349,3457,5725,5293,5509,5401,5617,5077,5185,4969,6157,5941,6049,5833,6373,6265,6481,6589', '3677,4541,4109,4325,4217,4433,3893,4001,3785,4973,4757,4865,4649,5189,5081,5297,5405,5513,5514,5515,4543,4975,4759,4867,4651,5191,5083,5299,5407,4111,4327,4219,4435,3895,4003,3787,3679,3678', '6589,7129,6805,6913,7021,6697,7345,7237,7453,7561,7669,7674,7671,7672,7673,7670,7677,7675,7676,7678,7679,7680,7140,7356,7248,7464,7572,6816,6924,7032,6708,6600,6594,6597,6595,6596,6598,6599,6591,6592,6593,6590'], 'floorLength': 108, 'floorBreadth': 108, 'flr_dist_matrix': ['0,52.07106781186546,60.6274169979695,52.65685424949237,7.414213562373095,52.07106781186546,0,108.55634918610401,5.414213562373095,58.65685424949237,60.6274169979695,108.55634918610401,0,111.6274169979695,53.21320343559641,52.65685424949237,5.414213562373095,111.6274169979695,0,59.242640687119284,7.414213562373095,58.65685424949237,53.21320343559641,59.242640687119284,0'], 'frConn': ['0,52.07106781186546,60.6274169979695,52.65685424949237,7.414213562373095,52.07106781186546,0,108.55634918610401,5.414213562373095,58.65685424949237,60.6274169979695,108.55634918610401,0,111.6274169979695,53.21320343559641,52.65685424949237,5.414213562373095,111.6274169979695,0,59.242640687119284,7.414213562373095,58.65685424949237,53.21320343559641,59.242640687119284,0'], 'clickedPoints': ['5675,1571,1593,5697,5675', '3324,5700,5697,5697', '6669,11313,11339,6695,6669', '3252,3241,6589,6589', '4199,4211,3347,3340,4204,4204', '1593,837,852,3336,3335,3335', '6384,6600,6600', '1608,1619,3347,3336,1608', '6589,7669,7680,6600,6589', '3677,5513,5515,3679,3677', '4739,4742,4202,4202', '5628,1524,1549,5653,5628', '6625,6669,11205,11205', '5723,6695,6695', '6600,11244,11269,6625,6600', '5653,1549,1571,5675,5653', '3331,3321,3321', '2790,2786,1382,1387,2791,2790', '5711,4739,4742,4202,4211,5723,5711'], 'floorAngle': None, 'polygonId': ['05401c0-8da4-30c5-1705-dce527b8d05d', '7a673-0b87-84d4-6bf-be4fbf8b64', '5868a0b-bad7-c02e-6fe-d347cb7541b2', '5e6d6-3246-1ec1-180f-ec5db3d2d2b1', 'fb4bcfb-afd0-337e-5b82-c86a4b4160b', '23051d7-666-27e0-836-d668600a5c7b', '3a35bda-ec43-cc2a-2e30-d312f8b3e0a', '3f5134c-63ed-705f-0fba-162a1e4ced6d', 'b433ee7-0022-fdc-20f-10eb7486f4ce', '3cd18eb-66a2-6de-f0-080a12c77acd', 'ff535ba-7880-22b6-e5ae-45e3fb011fa6', 'f4c4c7-1f7d-5536-dc5f-465acb5c115', '83c5215-6a16-6335-8651-c83ba06de6a0', '6034ba-e37d-37a-d83b-f17b38fa341', '444b2df-610f-02d8-3b-088ee15db', '700a271-4e6-a406-d3c0-3b167e5c456d', '67f41-01fa-dfc1-14aa-a58e6dfbe3c', 'bb7bf3-4f05-b2-50ac-2586de604d8', '7d3b4e6-4dc-365d-056-5abc6712886b']}}\n",
      "{'type': None, 'feature_type': None, 'coordinateX': -1, 'coordinateY': -1, 'geometryType': 'FLOOR', 'element': {'type': 'Floor', 'subType': None}, 'name': None, 'floor': 'fourth', 'properties': {'fileName': '004ef3cf-9294-4171-adc0-1554759d5400_IITCampus-ANSKSIT-fourth_4th Floor.png', 'nonWalkableGrids': ['6241,6657,6449,6553,6345,6865,6761,6969,7073,7177,7182,7179,7180,7181,7178,7184,7183,7185,7186,7187,6667,6875,6771,6979,7083,6459,6563,6355,6251,6246,6248,6247,6249,6250,6243,6244,6245,6242', '6241,4681,5409,4993,5201,5097,5305,4785,4889,5825,5617,5721,5513,6033,5929,6137,3849,4265,4057,4161,3953,4473,4369,4577,3433,3641,3537,3745,3225,3329,3121,3126,3123,3124,3125,3122,3128,3127,3129,3130,3131,4275,3651,3963,3755,3859,4067,4171,3339,3443,3547,3235,4899,4587,4691,4795,4379,4483,5211,5003,5107,5315,5419,5523', '3541,4373,3957,4165,4061,4269,3749,3853,3645,4789,4581,4685,4477,4997,4893,5101,5205,5206,5207,4375,4791,4583,4687,4479,4999,4895,5103,3959,4167,4063,4271,3751,3855,3647,3543,3542', '5211,3235,4171,3651,3859,3755,3963,4067,3443,3547,3339,4691,4379,4483,4587,4275,4899,4795,5003,5107,2299,2715,2507,2611,2403,2923,2819,3027,3131,1779,1987,1883,2091,2195,1571,1675,1467,1363,1374,1368,1371,1369,1370,1372,1373,1365,1366,1367,1364,1379,1376,1377,1378,1375,1382,1380,1381,1383,1384,1385,3257,2321,2737,2529,2633,2425,2945,2841,3049,3153,1801,2009,1905,2113,2217,1593,1697,1489,4193,3673,3881,3777,3985,4089,3465,3569,3361,4713,4401,4505,4609,4297,4921,4817,5025,5129,5233,5222,5227,5224,5225,5226,5223,5230,5228,5229,5231,5232,5216,5219,5217,5218,5220,5221,5213,5214,5215,5212', '5233,3257,4193,3673,3881,3777,3985,4089,3465,3569,3361,4713,4401,4505,4609,4297,4921,4817,5025,5129,2321,2737,2529,2633,2425,2945,2841,3049,3153,1801,2009,1905,2113,2217,1593,1697,1489,1385,1394,1389,1391,1390,1392,1393,1387,1388,1386,1399,1396,1397,1398,1395,1401,1400,1402,1403,1404,3276,2340,2756,2548,2652,2444,2964,2860,3068,3172,1820,2028,1924,2132,2236,1612,1716,1508,4212,3692,3900,3796,4004,4108,3484,3588,3380,4732,4420,4524,4628,4316,4940,4836,5044,5148,5252,5242,5247,5244,5245,5246,5243,5249,5248,5250,5251,5237,5239,5238,5240,5241,5235,5236,5234', '5252,3276,4212,3692,3900,3796,4004,4108,3484,3588,3380,4732,4420,4524,4628,4316,4940,4836,5044,5148,2340,2756,2548,2652,2444,2964,2860,3068,3172,1820,2028,1924,2132,2236,1612,1716,1508,1404,1413,1408,1410,1409,1411,1412,1406,1407,1405,1418,1415,1416,1417,1414,1420,1419,1421,1422,1423,3295,2359,2775,2567,2671,2463,2983,2879,3087,3191,1839,2047,1943,2151,2255,1631,1735,1527,4231,3711,3919,3815,4023,4127,3503,3607,3399,4751,4439,4543,4647,4335,4959,4855,5063,5167,5271,5261,5266,5263,5264,5265,5262,5268,5267,5269,5270,5256,5258,5257,5259,5260,5254,5255,5253', '', '3199,3195,3197,3196,3198,3193,3194,3192,3191,1943,2567,2255,2359,2463,2047,2151,2879,2671,2775,2983,3087,1319,1631,1423,1527,1735,1839,1007,1111,1215,903,799,805,802,803,804,800,801,808,806,807,810,809,811,812,1956,1332,1644,1436,1540,1748,1852,1020,1124,1228,916,2580,2268,2372,2476,2060,2164,2892,2684,2788,2996,3100,3204', '1220,1948,1532,1740,1636,1844,1324,1428,2260,2052,2156,2468,2364,2572,2676,2677,2678,2679,1951,2263,2055,2159,2471,2367,2575,1535,1743,1639,1847,1327,1431,1223,1221,1222', '3204,2268,2684,2476,2580,2372,2892,2788,2996,3100,1852,2060,1956,2164,1644,1748,1540,1436,1442,1439,1440,1441,1437,1438,1445,1443,1444,1446,1447,1448,2280,1864,2072,1968,2176,1656,1760,1552,2696,2488,2592,2384,2904,2800,3008,3112,3216,3210,3213,3211,3212,3214,3215,3207,3208,3209,3205,3206', '3208,3520,3312,3416,3728,3624,3832,3936,3940,3938,3939,3937,3942,3941,3943,3944,3528,3736,3632,3840,3320,3424,3216,3212,3214,3213,3215,3210,3211,3209', '3931,3933,3932,3934,3935,3936,4144,4040,4248,4352,4349,4350,4351,4348,4347', '4347,4349,4348,4350,4351,4352,4144,4248,4040,3936,3940,3938,3939,3937,3942,3941,3943,3944,4464,4152,4256,4360,4048,4776,4568,4672,4880,4984,5088,5192,5296,5289,5292,5290,5291,5294,5293,5295,5286,5287,5288,5284,5285,5283,4763,4971,4867,5075,5179,4555,4659,4451', '5296,5816,5504,5608,5712,5400,6024,5920,6128,6232,6336', '6285,6701,6493,6597,6389,6909,6805,7013,7117,7221,7224,7222,7223,7226,7225,7227,7228,6708,6916,6812,7020,7124,6500,6604,6396,6292,6288,6290,6289,6291,6286,6287', '6292,6708,6500,6604,6396,6916,6812,7020,7124,7228,7231,7229,7230,7233,7232,7234,7235,6715,6923,6819,7027,7131,6507,6611,6403,6299,6295,6297,6296,6298,6293,6294', '6251,6979,6563,6771,6667,6875,6355,6459,7291,7083,7187,7499,7395,7603,7707,7714,7710,7712,7711,7713,7708,7709,7718,7716,7717,7715,7720,7719,7721,7722,6994,7306,7098,7202,7514,7410,7618,6578,6786,6682,6890,6370,6474,6266,6258,6262,6260,6261,6259,6264,6263,6265,6254,6256,6255,6257,6252,6253', '7707,8435,8019,8227,8123,8331,7811,7915,8747,8539,8643,8955,8851,9059,9163,9170,9166,9168,9167,9169,9164,9165,9174,9172,9173,9171,9176,9175,9177,9178,8450,8762,8554,8658,8970,8866,9074,8034,8242,8138,8346,7826,7930,7722,7714,7718,7716,7717,7715,7720,7719,7721,7710,7712,7711,7713,7708,7709', '9163,9891,9475,9683,9579,9787,9267,9371,10203,9995,10099,10411,10307,10515,10619,10626,10622,10624,10623,10625,10620,10621,10630,10628,10629,10627,10632,10631,10633,10634,9906,10218,10010,10114,10426,10322,10530,9490,9698,9594,9802,9282,9386,9178,9170,9174,9172,9173,9171,9176,9175,9177,9166,9168,9167,9169,9164,9165', '10634,10637,10635,10636,10639,10638,10640,10641,8457,9497,8977,9185,9081,9289,9393,8665,8769,8873,8561,10017,9705,9809,9913,9601,10329,10121,10225,10433,10537,7313,7833,7521,7625,7729,7417,8145,7937,8041,8249,8353,6793,7001,6897,7105,7209,6481,6585,6689,6377,6273,6292,6282,6287,6284,6285,6286,6283,6289,6288,6290,6291,6277,6279,6278,6280,6281,6275,6276,6274,6301,6296,6298,6297,6299,6300,6294,6295,6293,6306,6303,6304,6305,6302,6308,6307,6309,6310,6311,8495,7351,7871,7559,7663,7767,7455,8183,7975,8079,8287,8391,6831,7039,6935,7143,7247,6519,6623,6727,6415,9535,9015,9223,9119,9327,9431,8703,8807,8911,8599,10055,9743,9847,9951,9639,10367,10159,10263,10471,10575,10679', '9743,10159,9951,10055,9847,10367,10263,10471,10575,10679,10682,10680,10681,10684,10683,10685,10686,10166,10374,10270,10478,10582,9958,10062,9854,9750,9746,9748,9747,9749,9744,9745', '', '9230,9958,9542,9750,9646,9854,9334,9438,10270,10062,10166,10478,10374,10582,10686,10695,10690,10692,10691,10693,10694,10688,10689,10687,10699,10697,10698,10696,10701,10700,10702,10703,10704,9976,10288,10080,10184,10496,10392,10600,9560,9768,9664,9872,9352,9456,9248,9239,9243,9241,9242,9240,9245,9244,9246,9247,9234,9236,9235,9237,9238,9232,9233,9231', '', '', '7774,8502,8086,8294,8190,8398,7878,7982,8814,8606,8710,9022,8918,9126,9230,9239,9234,9236,9235,9237,9238,9232,9233,9231,9243,9241,9242,9240,9245,9244,9246,9247,9248,8520,8832,8624,8728,9040,8936,9144,8104,8312,8208,8416,7896,8000,7792,7783,7787,7785,7786,7784,7789,7788,7790,7791,7778,7780,7779,7781,7782,7776,7777,7775', '6318,7046,6630,6838,6734,6942,6422,6526,7358,7150,7254,7566,7462,7670,7774,7783,7778,7780,7779,7781,7782,7776,7777,7775,7787,7785,7786,7784,7789,7788,7790,7791,7792,7064,7376,7168,7272,7584,7480,7688,6648,6856,6752,6960,6440,6544,6336,6327,6331,6329,6330,6328,6333,6332,6334,6335,6322,6324,6323,6325,6326,6320,6321,6319'], 'floorLength': 104, 'floorBreadth': 104, 'flr_dist_matrix': ['0,50,97.45584412271566,43,6,50,0,47.45584412271569,7,52.485281374238554,97.45584412271566,47.45584412271569,0,54.45584412271569,95.79898987322332,43,7,54.45584412271569,0,45.485281374238554,6,52.485281374238554,95.79898987322332,45.485281374238554,0'], 'frConn': ['0,50,97.45584412271566,43,6,50,0,47.45584412271569,7,52.485281374238554,97.45584412271566,47.45584412271569,0,54.45584412271569,95.79898987322332,43,7,54.45584412271569,0,45.485281374238554,6,52.485281374238554,95.79898987322332,45.485281374238554,0'], 'clickedPoints': ['6241,7177,7187,6251,6241', '9230,10686,10704,9248,9230', '6318,7774,7792,6336,6318', '6241,3121,3131,5523,5523', '3541,5205,5207,3543,3541', '5211,1363,1385,5233,5211', '5233,1385,1404,5252,5233', '5252,1404,1423,5271,5252', '1220,2676,2679,1223,1220', '3208,3936,3944,3216,3208', '3931,3936,4352,4347,4347', '4347,4352,3936,3944,5088,5296,5283,4347', '5296,6336,6336', '6285,7221,7228,6292,6285', '6292,7228,7235,6299,6292', '6251,7707,7722,6266,6251', '9163,10619,10634,9178,9163', '9743,10679,10686,9750,9743', '7774,9230,9248,7792,7774', '3199,3191,799,812,3204,3204', '3204,1436,1448,3216,3204', '7707,9163,9178,7722,7707', '10634,10641,6273,6311,10679,10679'], 'floorAngle': None, 'polygonId': ['07cb4-f0d-8664-f778-e7baed85', '74ffd00-04-a453-f27d-8d8a718717', 'e7d628e-1a0-f07e-6f4-353e02de8f', '0b5c273-0df-b625-d3c5-be8e87b70', '886c7b8-61e5-475d-f85-703fd858ba5', '2a58d5-0811-fac-81fe-f41d8eb0272', '1f756c2-0661-cae8-e41b-d31a52dd32e', '48843b8-c318-c8e3-da6e-4e8f8b8866e8', 'de51f45-dfb5-64fd-d22e-7c7f2ac1c31', 'fe82351-5ede-8cde-583-3accda6c08bf', 'e884b4b-edb5-4fce-2f73-cef15e801b5', 'a0bc41d-3276-ca6c-b57a-ba35e4ddbb4', 'fe20ced-31ca-e81d-3c22-050d51bfb5f3', '7d68f82-4a5-386e-0c1e-2aafb04bca5', 'e2b88f-3288-b1e-a6db-43a601a04c1', '6dcec0-3370-b578-7ac6-3e6aef01fa5', '3ec6e1-6d4b-6fb0-6c18-cf408e3b3', 'd534228-8746-6c7f-ce12-851d7f126471', 'babf14c-af67-d3fc-00bb-5a53e83127', '05aee23-c0a-1f7d-cd40-ad6d5f3c384d', '6eaa1ae-4c2f-d8d6-c57d-3e575d768c15', '18456-087e-725-e7af-05dd3a83561', '7bed0c2-0f1a-3f7b-4d6e-7fa36fe2efd', 'da54a06-ac12-d81e-35f5-cf66adc3e8e', 'a1be65-651-b85e-75fa-103a57fd083', '7aea017-f857-0a4e-b76c-72e3ef60ef4f', 'a244aa-ba21-488d-1a11-8c3abf56ac6']}}\n"
     ]
    }
   ],
   "source": [
    "import json\n",
    "  \n",
    "# Opening JSON file\n",
    "f = open('dataj.txt')\n",
    "  \n",
    "# returns JSON object as \n",
    "# a dictionary\n",
    "data = json.load(f)\n",
    "  \n",
    "# Iterating through the json\n",
    "# list\n",
    "for i in data:\n",
    "    print(i)\n",
    "  \n",
    "# Closing file\n",
    "f.close()"
   ]
  },
  {
   "cell_type": "code",
   "execution_count": 3,
   "id": "a624a9d0",
   "metadata": {},
   "outputs": [],
   "source": [
    "from fuzzywuzzy import fuzz\n",
    "from fuzzywuzzy import process"
   ]
  },
  {
   "cell_type": "code",
   "execution_count": 9,
   "id": "6ea21ce9",
   "metadata": {},
   "outputs": [
    {
     "name": "stdout",
     "output_type": "stream",
     "text": [
      "Male Washroom 1\n",
      "first\n",
      "Handicapped Washroom 1\n",
      "first\n",
      "Female Washroom 1\n",
      "first\n",
      "Male Washroom 1\n",
      "second\n",
      "Male Washroom 1\n",
      "ground\n",
      "Female Washroom 1\n",
      "ground\n",
      "Female Washroom 1\n",
      "second\n",
      "Handicapped Washroom 1\n",
      "second\n",
      "Handicapped Washroom 1\n",
      "ground\n",
      "Female Washroom 1\n",
      "third\n",
      "Male Washroom 1\n",
      "third\n",
      "Handicapped Washroom 1\n",
      "third\n",
      "Female Washroom 1\n",
      "fourth\n",
      "Male Washroom 1\n",
      "fourth\n"
     ]
    }
   ],
   "source": [
    "g=process.extract(\"washrom\",data,limit=14)\n",
    "for i in g:\n",
    "    print(i[0]['name'])\n",
    "    print(i[0]['floor'])"
   ]
  },
  {
   "cell_type": "code",
   "execution_count": 7,
   "id": "6eeb34cd",
   "metadata": {},
   "outputs": [
    {
     "name": "stdout",
     "output_type": "stream",
     "text": [
      "Write any word \n",
      "server\n"
     ]
    }
   ],
   "source": [
    "room=input('Write any word \\n')"
   ]
  },
  {
   "cell_type": "code",
   "execution_count": 8,
   "id": "3d8d58f6",
   "metadata": {},
   "outputs": [
    {
     "name": "stdout",
     "output_type": "stream",
     "text": [
      "[27, 0, 0, 10, 22, 0, 30, 16, 25, 13, 59, 14, 32, 12, 14, 14, 0, 8, 26, 18, 16, 12, 21, 10, 7, 17, 19, 0, 8, 10, 10, 10, 10, 6, 9, 10, 9, 0, 10, 18, 10, 0, 0, 9, 0, 0, 10, 16, 0, 0, 0, 0, 0, 0, 0, 0, 0, 0, 0, 0, 0, 0, 0, 0, 0, 0, 0, 0, 0, 0, 0, 0, 0, 0, 19, 14, 26, 19, 21, 19, 26, 21, 0, 0, 26, 21, 14, 14, 26, 0, 19, 14, 21, 26, 19, 0, 0, 0, 0, 0, 0, 0, 0, 0, 0]\n"
     ]
    }
   ],
   "source": [
    "a=[]\n",
    "for i in data:\n",
    "    a.append(fuzz.ratio(room,i['name']))\n",
    "    \n",
    "print(a)\n",
    "\n",
    "elem_pos1=[]\n",
    "\n",
    "for elem in range(77,101):\n",
    "    if elem in a:\n",
    "        counter = 0\n",
    "        elem_pos1 = []\n",
    "        for i in a:\n",
    "            if i == elem:\n",
    "                elem_pos1.append(counter)\n",
    "            counter = counter + 1\n",
    "        print(elem_pos1)"
   ]
  },
  {
   "cell_type": "code",
   "execution_count": 9,
   "id": "75082b10",
   "metadata": {},
   "outputs": [
    {
     "name": "stdout",
     "output_type": "stream",
     "text": [
      "[]\n"
     ]
    }
   ],
   "source": [
    "print(elem_pos1)"
   ]
  },
  {
   "cell_type": "code",
   "execution_count": 10,
   "id": "c81eece3",
   "metadata": {},
   "outputs": [
    {
     "name": "stdout",
     "output_type": "stream",
     "text": [
      "[33, 0, 0, 17, 33, 0, 50, 33, 33, 17, 83, 33, 50, 18, 17, 33, 0, 17, 33, 33, 33, 17, 33, 17, 17, 33, 50, 0, 0, 17, 0, 17, 17, 0, 17, 17, 17, 0, 17, 17, 17, 0, 0, 0, 0, 0, 17, 33, 0, 0, 0, 0, 0, 0, 0, 0, 0, 0, 0, 0, 0, 0, 0, 0, 0, 0, 0, 0, 0, 0, 0, 0, 0, 0, 33, 33, 33, 33, 33, 33, 33, 33, 0, 0, 33, 33, 33, 33, 33, 0, 33, 33, 33, 33, 33, 0, 0, 0, 0, 0, 0, 0, 0, 0, 0]\n",
      "[10]\n"
     ]
    }
   ],
   "source": [
    "b=[]\n",
    "for i in data:\n",
    "    b.append(fuzz.partial_ratio(room,i['name']))\n",
    "    \n",
    "print(b)\n",
    "\n",
    "elem_pos2=[]\n",
    "\n",
    "for elem in range(77,101):\n",
    "    if elem in b:\n",
    "        counter = 0\n",
    "        elem_pos2 = []\n",
    "        for i in b:\n",
    "            if i == elem:\n",
    "                elem_pos2.append(counter)\n",
    "            counter = counter + 1\n",
    "        print(elem_pos2)"
   ]
  },
  {
   "cell_type": "code",
   "execution_count": 11,
   "id": "23fb9c1e",
   "metadata": {},
   "outputs": [
    {
     "name": "stdout",
     "output_type": "stream",
     "text": [
      "[10]\n"
     ]
    }
   ],
   "source": [
    "print(elem_pos2)"
   ]
  },
  {
   "cell_type": "code",
   "execution_count": 12,
   "id": "b7122f76",
   "metadata": {},
   "outputs": [
    {
     "name": "stdout",
     "output_type": "stream",
     "text": [
      "[27, 0, 12, 20, 23, 0, 30, 17, 27, 27, 71, 22, 33, 12, 14, 21, 15, 8, 18, 29, 25, 12, 21, 19, 8, 18, 20, 12, 17, 30, 11, 10, 10, 7, 19, 10, 18, 12, 10, 20, 10, 0, 0, 19, 0, 14, 21, 25, 0, 0, 0, 0, 0, 0, 0, 0, 0, 0, 0, 0, 0, 0, 0, 0, 0, 0, 0, 0, 0, 0, 0, 0, 0, 0, 19, 14, 26, 19, 21, 19, 26, 21, 0, 0, 26, 21, 14, 14, 26, 0, 19, 14, 21, 26, 19, 0, 0, 0, 0, 0, 0, 0, 0, 0, 0]\n"
     ]
    }
   ],
   "source": [
    "c=[]\n",
    "for i in data:\n",
    "    c.append(fuzz.token_sort_ratio(room,i['name']))\n",
    "    \n",
    "print(c)\n",
    "\n",
    "elem_pos3=[]\n",
    "\n",
    "for elem in range(77,101):\n",
    "    if elem in c:\n",
    "        counter = 0\n",
    "        elem_pos3 = []\n",
    "        for i in c:\n",
    "            if i == elem:\n",
    "                elem_pos3.append(counter)\n",
    "            counter = counter + 1\n",
    "        print(elem_pos3)"
   ]
  },
  {
   "cell_type": "code",
   "execution_count": 13,
   "id": "5343d442",
   "metadata": {},
   "outputs": [
    {
     "name": "stdout",
     "output_type": "stream",
     "text": [
      "[]\n"
     ]
    }
   ],
   "source": [
    "print(elem_pos3)"
   ]
  },
  {
   "cell_type": "code",
   "execution_count": 14,
   "id": "dc910e61",
   "metadata": {},
   "outputs": [
    {
     "name": "stdout",
     "output_type": "stream",
     "text": [
      "1 options available \n",
      "\n",
      "Server Room\n",
      "ground floor\n"
     ]
    }
   ],
   "source": [
    "o=[]\n",
    "if len(elem_pos1)>len(elem_pos2) and len(elem_pos1)>len(elem_pos3):\n",
    "        o=elem_pos1\n",
    "elif len(elem_pos2)>len(elem_pos1) and len(elem_pos2)>len(elem_pos3):\n",
    "        o=elem_pos2\n",
    "else: o=elem_pos3\n",
    "\n",
    "\n",
    "print(str(len(o)) +' options available \\n')\n",
    "\n",
    "for x in o:\n",
    "    print(data[x]['name'])\n",
    "    print(data[x]['floor'] + ' floor')"
   ]
  },
  {
   "cell_type": "code",
   "execution_count": 4,
   "id": "3b297ec7",
   "metadata": {},
   "outputs": [
    {
     "name": "stdout",
     "output_type": "stream",
     "text": [
      "Reception\n",
      "Kolin Paul, 102\n",
      "PA Room, 201\n",
      "Rahul Garg, 104\n",
      "Aaditeshwar Seth, 103\n",
      "ACT4D Lab\n",
      "Emergency Exit\n",
      "Assistech Lab (009)\n",
      "Seminar room (001)\n",
      "SIT Entry\n",
      "Server Room\n",
      "Presentation Room (006)\n",
      "Liberary, 005\n",
      "SIT Office\n",
      "Head SIT\n",
      "Committee Room Waiting\n",
      "PA Room\n",
      "M Balakrishnan, 117\n",
      "Chetan Arora, 116\n",
      "Manik Verma, 115\n",
      "Committee Room, 113\n",
      "SIT Kitchen\n",
      "Electrical Maintenance\n",
      "Scholar Lab 301\n",
      "Visiting Faculty, 213\n",
      "Embedded Lab, 211\n",
      "Prof. Sanjeeva Prasad, 204\n",
      "PA Room, 216\n",
      "Prof. PR Panda, 202\n",
      "SR Sarangi, 215\n",
      "Prof. Maya, 214\n",
      "M.Tech Lab, 209\n",
      "M.Tech Lab, 210\n",
      "Prof. Amitabh Bagchi, 203\n",
      "Prof. Mausam, 403\n",
      "M.Tech Lab 305\n",
      "Scholar Room 309\n",
      "PA Room 401\n",
      "M.Tech Lab 308\n",
      "Prof. Parag, 404\n",
      "M.Tech Lab 306\n",
      "408\n",
      "407\n",
      "Prof. Rohan Paul\n",
      "406\n",
      "Room 402\n",
      "Prof. Abhilash\n",
      "Prof. Sourav Bansal\n",
      "\n",
      "\n",
      "\n",
      "\n",
      "\n",
      "\n",
      "\n",
      "\n",
      "\n",
      "\n",
      "\n",
      "\n",
      "\n",
      "\n",
      "\n",
      "\n",
      "\n",
      "\n",
      "\n",
      "\n",
      "\n",
      "\n",
      "\n",
      "\n",
      "\n",
      "\n",
      "Male Washroom 1\n",
      "Handicapped Washroom 1\n",
      "Female Washroom 1\n",
      "Male Washroom 1\n",
      "Drinking Water Point 1\n",
      "Male Washroom 1\n",
      "Female Washroom 1\n",
      "Drinking Water Point 1\n",
      "\n",
      "\n",
      "Female Washroom 1\n",
      "Drinking Water Point 1\n",
      "Handicapped Washroom 1\n",
      "Handicapped Washroom 1\n",
      "Female Washroom 1\n",
      "\n",
      "Male Washroom 1\n",
      "Handicapped Washroom 1\n",
      "Drinking Water Point 1\n",
      "Female Washroom 1\n",
      "Male Washroom 1\n",
      "\n",
      "\n",
      "\n",
      "\n",
      "\n",
      "None\n",
      "None\n",
      "None\n",
      "None\n",
      "None\n",
      "['Reception', 'Kolin Paul, 102', 'PA Room, 201', 'Rahul Garg, 104', 'Aaditeshwar Seth, 103', 'ACT4D Lab', 'Emergency Exit', 'Assistech Lab (009)', 'Seminar room (001)', 'SIT Entry', 'Server Room', 'Presentation Room (006)', 'Liberary, 005', 'SIT Office', 'Head SIT', 'Committee Room Waiting', 'PA Room', 'M Balakrishnan, 117', 'Chetan Arora, 116', 'Manik Verma, 115', 'Committee Room, 113', 'SIT Kitchen', 'Electrical Maintenance', 'Scholar Lab 301', 'Visiting Faculty, 213', 'Embedded Lab, 211', 'Prof. Sanjeeva Prasad, 204', 'PA Room, 216', 'Prof. PR Panda, 202', 'SR Sarangi, 215', 'Prof. Maya, 214', 'M.Tech Lab, 209', 'M.Tech Lab, 210', 'Prof. Amitabh Bagchi, 203', 'Prof. Mausam, 403', 'M.Tech Lab 305', 'Scholar Room 309', 'PA Room 401', 'M.Tech Lab 308', 'Prof. Parag, 404', 'M.Tech Lab 306', '408', '407', 'Prof. Rohan Paul', '406', 'Room 402', 'Prof. Abhilash', 'Prof. Sourav Bansal', '', '', '', '', '', '', '', '', '', '', '', '', '', '', '', '', '', '', '', '', '', '', '', '', '', '', 'Male Washroom 1', 'Handicapped Washroom 1', 'Female Washroom 1', 'Male Washroom 1', 'Drinking Water Point 1', 'Male Washroom 1', 'Female Washroom 1', 'Drinking Water Point 1', '', '', 'Female Washroom 1', 'Drinking Water Point 1', 'Handicapped Washroom 1', 'Handicapped Washroom 1', 'Female Washroom 1', '', 'Male Washroom 1', 'Handicapped Washroom 1', 'Drinking Water Point 1', 'Female Washroom 1', 'Male Washroom 1', '', '', '', '', '', None, None, None, None, None]\n"
     ]
    }
   ],
   "source": [
    "# create a new list variable\n",
    "names = []\n",
    "\n",
    "for i in data:\n",
    "    name = i['name']\n",
    "    print(name)\n",
    "    # add the name to the list\n",
    "    names.append(name)\n",
    "\n",
    "\n",
    "# output the new list\n",
    "print(names)"
   ]
  },
  {
   "cell_type": "code",
   "execution_count": 9,
   "id": "00eaf43b",
   "metadata": {},
   "outputs": [
    {
     "name": "stdout",
     "output_type": "stream",
     "text": [
      "['Reception', 'Kolin Paul, 102', 'PA Room, 201', 'Rahul Garg, 104', 'Aaditeshwar Seth, 103', 'ACT4D Lab', 'Emergency Exit', 'Assistech Lab (009)', 'Seminar room (001)', 'SIT Entry', 'Server Room', 'Presentation Room (006)', 'Liberary, 005', 'SIT Office', 'Head SIT', 'Committee Room Waiting', 'PA Room', 'M Balakrishnan, 117', 'Chetan Arora, 116', 'Manik Verma, 115', 'Committee Room, 113', 'SIT Kitchen', 'Electrical Maintenance', 'Scholar Lab 301', 'Visiting Faculty, 213', 'Embedded Lab, 211', 'Prof. Sanjeeva Prasad, 204', 'PA Room, 216', 'Prof. PR Panda, 202', 'SR Sarangi, 215', 'Prof. Maya, 214', 'M.Tech Lab, 209', 'M.Tech Lab, 210', 'Prof. Amitabh Bagchi, 203', 'Prof. Mausam, 403', 'M.Tech Lab 305', 'Scholar Room 309', 'PA Room 401', 'M.Tech Lab 308', 'Prof. Parag, 404', 'M.Tech Lab 306', '408', '407', 'Prof. Rohan Paul', '406', 'Room 402', 'Prof. Abhilash', 'Prof. Sourav Bansal', '', '', '', '', '', '', '', '', '', '', '', '', '', '', '', '', '', '', '', '', '', '', '', '', '', '', 'Male Washroom 1', 'Handicapped Washroom 1', 'Female Washroom 1', 'Male Washroom 1', 'Drinking Water Point 1', 'Male Washroom 1', 'Female Washroom 1', 'Drinking Water Point 1', '', '', 'Female Washroom 1', 'Drinking Water Point 1', 'Handicapped Washroom 1', 'Handicapped Washroom 1', 'Female Washroom 1', '', 'Male Washroom 1', 'Handicapped Washroom 1', 'Drinking Water Point 1', 'Female Washroom 1', 'Male Washroom 1', '', '', '', '', '', None, None, None, None, None]\n"
     ]
    }
   ],
   "source": [
    "print(names)"
   ]
  },
  {
   "cell_type": "code",
   "execution_count": 18,
   "id": "c29cef6a",
   "metadata": {},
   "outputs": [
    {
     "name": "stdout",
     "output_type": "stream",
     "text": [
      "Reception\n",
      "Kolin Paul, 102\n",
      "PA Room, 201\n",
      "Rahul Garg, 104\n",
      "Aaditeshwar Seth, 103\n",
      "ACT4D Lab\n",
      "Emergency Exit\n",
      "Assistech Lab (009)\n",
      "Seminar room (001)\n",
      "SIT Entry\n",
      "Server Room\n",
      "Presentation Room (006)\n",
      "Liberary, 005\n",
      "SIT Office\n",
      "Head SIT\n",
      "Committee Room Waiting\n",
      "PA Room\n",
      "M Balakrishnan, 117\n",
      "Chetan Arora, 116\n",
      "Manik Verma, 115\n",
      "Committee Room, 113\n",
      "SIT Kitchen\n",
      "Electrical Maintenance\n",
      "Scholar Lab 301\n",
      "Visiting Faculty, 213\n",
      "Embedded Lab, 211\n",
      "Prof. Sanjeeva Prasad, 204\n",
      "PA Room, 216\n",
      "Prof. PR Panda, 202\n",
      "SR Sarangi, 215\n",
      "Prof. Maya, 214\n",
      "M.Tech Lab, 209\n",
      "M.Tech Lab, 210\n",
      "Prof. Amitabh Bagchi, 203\n",
      "Prof. Mausam, 403\n",
      "M.Tech Lab 305\n",
      "Scholar Room 309\n",
      "PA Room 401\n",
      "M.Tech Lab 308\n",
      "Prof. Parag, 404\n",
      "M.Tech Lab 306\n",
      "408\n",
      "407\n",
      "Prof. Rohan Paul\n",
      "406\n",
      "Room 402\n",
      "Prof. Abhilash\n",
      "Prof. Sourav Bansal\n",
      "\n",
      "\n",
      "\n",
      "\n",
      "\n",
      "\n",
      "\n",
      "\n",
      "\n",
      "\n",
      "\n",
      "\n",
      "\n",
      "\n",
      "\n",
      "\n",
      "\n",
      "\n",
      "\n",
      "\n",
      "\n",
      "\n",
      "\n",
      "\n",
      "\n",
      "\n",
      "Male Washroom 1\n",
      "Handicapped Washroom 1\n",
      "Female Washroom 1\n",
      "Male Washroom 1\n",
      "Drinking Water Point 1\n",
      "Male Washroom 1\n",
      "Female Washroom 1\n",
      "Drinking Water Point 1\n",
      "\n",
      "\n",
      "Female Washroom 1\n",
      "Drinking Water Point 1\n",
      "Handicapped Washroom 1\n",
      "Handicapped Washroom 1\n",
      "Female Washroom 1\n",
      "\n",
      "Male Washroom 1\n",
      "Handicapped Washroom 1\n",
      "Drinking Water Point 1\n",
      "Female Washroom 1\n",
      "Male Washroom 1\n",
      "\n",
      "\n",
      "\n",
      "\n",
      "\n",
      "None\n",
      "None\n",
      "None\n",
      "None\n",
      "None\n",
      "['Reception', 'Kolin Paul, 102', 'PA Room, 201', 'Rahul Garg, 104', 'Aaditeshwar Seth, 103', 'ACT4D Lab', 'Emergency Exit', 'Assistech Lab (009)', 'Seminar room (001)', 'SIT Entry', 'Server Room', 'Presentation Room (006)', 'Liberary, 005', 'SIT Office', 'Head SIT', 'Committee Room Waiting', 'PA Room', 'M Balakrishnan, 117', 'Chetan Arora, 116', 'Manik Verma, 115', 'Committee Room, 113', 'SIT Kitchen', 'Electrical Maintenance', 'Scholar Lab 301', 'Visiting Faculty, 213', 'Embedded Lab, 211', 'Prof. Sanjeeva Prasad, 204', 'PA Room, 216', 'Prof. PR Panda, 202', 'SR Sarangi, 215', 'Prof. Maya, 214', 'M.Tech Lab, 209', 'M.Tech Lab, 210', 'Prof. Amitabh Bagchi, 203', 'Prof. Mausam, 403', 'M.Tech Lab 305', 'Scholar Room 309', 'PA Room 401', 'M.Tech Lab 308', 'Prof. Parag, 404', 'M.Tech Lab 306', '408', '407', 'Prof. Rohan Paul', '406', 'Room 402', 'Prof. Abhilash', 'Prof. Sourav Bansal', '', '', '', '', '', '', '', '', '', '', '', '', '', '', '', '', '', '', '', '', '', '', '', '', '', '', 'Male Washroom 1', 'Handicapped Washroom 1', 'Female Washroom 1', 'Male Washroom 1', 'Drinking Water Point 1', 'Male Washroom 1', 'Female Washroom 1', 'Drinking Water Point 1', '', '', 'Female Washroom 1', 'Drinking Water Point 1', 'Handicapped Washroom 1', 'Handicapped Washroom 1', 'Female Washroom 1', '', 'Male Washroom 1', 'Handicapped Washroom 1', 'Drinking Water Point 1', 'Female Washroom 1', 'Male Washroom 1', '', '', '', '', '', None, None, None, None, None]\n"
     ]
    }
   ],
   "source": [
    "names = []\n",
    "\n",
    "for i in data:\n",
    "    name = i['name']\n",
    "    print(name)\n",
    "    # add the name to the list\n",
    "    names.append(name)\n",
    "\n",
    "\n",
    "# output the new list\n",
    "print(names)"
   ]
  },
  {
   "cell_type": "code",
   "execution_count": 19,
   "id": "7ed66661",
   "metadata": {},
   "outputs": [
    {
     "name": "stdout",
     "output_type": "stream",
     "text": [
      "['Reception', 'Kolin Paul, 102', 'PA Room, 201', 'Rahul Garg, 104', 'Aaditeshwar Seth, 103', 'ACT4D Lab', 'Emergency Exit', 'Assistech Lab (009)', 'Seminar room (001)', 'SIT Entry', 'Server Room', 'Presentation Room (006)', 'Liberary, 005', 'SIT Office', 'Head SIT', 'Committee Room Waiting', 'PA Room', 'M Balakrishnan, 117', 'Chetan Arora, 116', 'Manik Verma, 115', 'Committee Room, 113', 'SIT Kitchen', 'Electrical Maintenance', 'Scholar Lab 301', 'Visiting Faculty, 213', 'Embedded Lab, 211', 'Prof. Sanjeeva Prasad, 204', 'PA Room, 216', 'Prof. PR Panda, 202', 'SR Sarangi, 215', 'Prof. Maya, 214', 'M.Tech Lab, 209', 'M.Tech Lab, 210', 'Prof. Amitabh Bagchi, 203', 'Prof. Mausam, 403', 'M.Tech Lab 305', 'Scholar Room 309', 'PA Room 401', 'M.Tech Lab 308', 'Prof. Parag, 404', 'M.Tech Lab 306', '408', '407', 'Prof. Rohan Paul', '406', 'Room 402', 'Prof. Abhilash', 'Prof. Sourav Bansal', '', '', '', '', '', '', '', '', '', '', '', '', '', '', '', '', '', '', '', '', '', '', '', '', '', '', 'Male Washroom 1', 'Handicapped Washroom 1', 'Female Washroom 1', 'Male Washroom 1', 'Drinking Water Point 1', 'Male Washroom 1', 'Female Washroom 1', 'Drinking Water Point 1', '', '', 'Female Washroom 1', 'Drinking Water Point 1', 'Handicapped Washroom 1', 'Handicapped Washroom 1', 'Female Washroom 1', '', 'Male Washroom 1', 'Handicapped Washroom 1', 'Drinking Water Point 1', 'Female Washroom 1', 'Male Washroom 1', '', '', '', '', '', None, None, None, None, None]\n"
     ]
    }
   ],
   "source": [
    "print(names)"
   ]
  },
  {
   "cell_type": "code",
   "execution_count": null,
   "id": "0cc7f533",
   "metadata": {},
   "outputs": [],
   "source": [
    "from PyQt5.QtWidgets import *\n",
    "import sys\n",
    "\n",
    "class Window(QWidget):\n",
    "    def __init__(self):\n",
    "        QWidget.__init__(self)\n",
    "        layout = QGridLayout()\n",
    "        self.setLayout(layout)\n",
    "\n",
    "        # auto complete options                                                 \n",
    "        names = [\"Apple\", \"Alps\", \"Berry\", \"Cherry\" ]\n",
    "        completer = QCompleter(names)\n",
    "        print(completer)\n",
    "\n",
    "        # create line edit and add auto complete                                \n",
    "        self.lineedit = QLineEdit()\n",
    "        a=self.lineedit.setCompleter(completer)\n",
    "        layout.addWidget(self.lineedit, 0, 0)\n",
    "        print(self.lineedit)\n",
    "        print(a)\n",
    "\n",
    "app = QApplication(sys.argv)\n",
    "print(sys.argv)\n",
    "screen = Window()\n",
    "screen.show()\n",
    "sys.exit(app.exec_())"
   ]
  },
  {
   "cell_type": "code",
   "execution_count": 2,
   "id": "ecc09bbe",
   "metadata": {},
   "outputs": [
    {
     "name": "stdout",
     "output_type": "stream",
     "text": [
      "Collecting fast-autocomplete\n",
      "  Downloading fast_autocomplete-0.9.0-py3-none-any.whl (23 kB)\n",
      "Installing collected packages: fast-autocomplete\n",
      "Successfully installed fast-autocomplete-0.9.0\n",
      "Note: you may need to restart the kernel to use updated packages.\n"
     ]
    }
   ],
   "source": [
    "pip install fast-autocomplete"
   ]
  },
  {
   "cell_type": "code",
   "execution_count": 5,
   "id": "335eba9e",
   "metadata": {},
   "outputs": [],
   "source": [
    "from fast_autocomplete import AutoComplete\n",
    "words = {'book': {}, 'burrito': {}, 'pizza': {}, 'pasta':{}}\n",
    "autocomplete = AutoComplete(words=words)"
   ]
  },
  {
   "cell_type": "code",
   "execution_count": 6,
   "id": "726e2f01",
   "metadata": {},
   "outputs": [
    {
     "name": "stdout",
     "output_type": "stream",
     "text": [
      "Type the word \n",
      "b\n"
     ]
    },
    {
     "data": {
      "text/plain": [
       "[['book'], ['burrito']]"
      ]
     },
     "execution_count": 6,
     "metadata": {},
     "output_type": "execute_result"
    }
   ],
   "source": [
    "autocomplete.search(input('Type the word \\n'), max_cost=3, size=3)"
   ]
  },
  {
   "cell_type": "code",
   "execution_count": 8,
   "id": "6e9e2d05",
   "metadata": {},
   "outputs": [
    {
     "name": "stdout",
     "output_type": "stream",
     "text": [
      "['Reception', 'Kolin Paul, 102', 'PA Room, 201', 'Rahul Garg, 104', 'Aaditeshwar Seth, 103', 'ACT4D Lab', 'Emergency Exit', 'Assistech Lab (009)', 'Seminar room (001)', 'SIT Entry', 'Server Room', 'Presentation Room (006)', 'Liberary, 005', 'SIT Office', 'Head SIT', 'Committee Room Waiting', 'PA Room', 'M Balakrishnan, 117', 'Chetan Arora, 116', 'Manik Verma, 115', 'Committee Room, 113', 'SIT Kitchen', 'Electrical Maintenance', 'Scholar Lab 301', 'Visiting Faculty, 213', 'Embedded Lab, 211', 'Prof. Sanjeeva Prasad, 204', 'PA Room, 216', 'Prof. PR Panda, 202', 'SR Sarangi, 215', 'Prof. Maya, 214', 'M.Tech Lab, 209', 'M.Tech Lab, 210', 'Prof. Amitabh Bagchi, 203', 'Prof. Mausam, 403', 'M.Tech Lab 305', 'Scholar Room 309', 'PA Room 401', 'M.Tech Lab 308', 'Prof. Parag, 404', 'M.Tech Lab 306', '408', '407', 'Prof. Rohan Paul', '406', 'Room 402', 'Prof. Abhilash', 'Prof. Sourav Bansal', '', '', '', '', '', '', '', '', '', '', '', '', '', '', '', '', '', '', '', '', '', '', '', '', '', '', 'Male Washroom 1', 'Handicapped Washroom 1', 'Female Washroom 1', 'Male Washroom 1', 'Drinking Water Point 1', 'Male Washroom 1', 'Female Washroom 1', 'Drinking Water Point 1', '', '', 'Female Washroom 1', 'Drinking Water Point 1', 'Handicapped Washroom 1', 'Handicapped Washroom 1', 'Female Washroom 1', '', 'Male Washroom 1', 'Handicapped Washroom 1', 'Drinking Water Point 1', 'Female Washroom 1', 'Male Washroom 1', '', '', '', '', '', None, None, None, None, None]\n"
     ]
    }
   ],
   "source": [
    "a=names\n",
    "print(names)"
   ]
  },
  {
   "cell_type": "code",
   "execution_count": null,
   "id": "450bd900",
   "metadata": {},
   "outputs": [],
   "source": []
  },
  {
   "cell_type": "code",
   "execution_count": null,
   "id": "f4eedcd8",
   "metadata": {},
   "outputs": [],
   "source": [
    "import sys\n",
    "from PyQt5.QtWidgets import QApplication, QWidget, QVBoxLayout, QTextEdit, QLineEdit, QCompleter\n",
    "from PyQt5.QtGui import QStandardItem, QStandardItemModel, QFont\n",
    "\n",
    "class AppDemo(QWidget):\n",
    "    def __init__(self):\n",
    "        super().__init__()\n",
    "        self.resize(1200, 800)\n",
    "\n",
    "        fnt = QFont('Open Sans', 12)\n",
    "\n",
    "        mainLayout = QVBoxLayout()\n",
    "\n",
    "        # input field\n",
    "        self.input = QLineEdit()\n",
    "        self.input.setFixedHeight(50)\n",
    "        self.input.setFont(fnt)\n",
    "        self.input.editingFinished.connect(self.addEntry)\n",
    "        mainLayout.addWidget(self.input)\n",
    "\n",
    "        self.model = QStandardItemModel()\n",
    "        completer = QCompleter(self.model, self)\n",
    "        self.input.setCompleter(completer)\n",
    "        \n",
    "\n",
    "        self.console = QTextEdit()\n",
    "        self.console.setFont(fnt)\n",
    "        mainLayout.addWidget(self.console)\n",
    "\n",
    "        self.setLayout(mainLayout)\n",
    "\n",
    "    def addEntry(self):\n",
    "        entryItem = self.input.text()\n",
    "        self.input.clear()\n",
    "        self.console.append(entryItem)\n",
    "\n",
    "        if not self.model.findItems(entryItem):\n",
    "            self.model.appendRow(QStandardItem(entryItem))\n",
    "\n",
    "\n",
    "app = QApplication(sys.argv)\n",
    "demo = AppDemo()\n",
    "demo.show()\n",
    "sys.exit(app.exec_())"
   ]
  },
  {
   "cell_type": "code",
   "execution_count": null,
   "id": "c475cc47",
   "metadata": {},
   "outputs": [],
   "source": []
  },
  {
   "cell_type": "code",
   "execution_count": 6,
   "id": "5e310879",
   "metadata": {},
   "outputs": [
    {
     "name": "stdout",
     "output_type": "stream",
     "text": [
      "['Reception', 'Kolin Paul, 102', 'PA Room, 201', 'Rahul Garg, 104', 'Aaditeshwar Seth, 103', 'ACT4D Lab', 'Emergency Exit', 'Assistech Lab (009)', 'Seminar room (001)', 'SIT Entry', 'Server Room', 'Presentation Room (006)', 'Liberary, 005', 'SIT Office', 'Head SIT', 'Committee Room Waiting', 'PA Room', 'M Balakrishnan, 117', 'Chetan Arora, 116', 'Manik Verma, 115', 'Committee Room, 113', 'SIT Kitchen', 'Electrical Maintenance', 'Scholar Lab 301', 'Visiting Faculty, 213', 'Embedded Lab, 211', 'Prof. Sanjeeva Prasad, 204', 'PA Room, 216', 'Prof. PR Panda, 202', 'SR Sarangi, 215', 'Prof. Maya, 214', 'M.Tech Lab, 209', 'M.Tech Lab, 210', 'Prof. Amitabh Bagchi, 203', 'Prof. Mausam, 403', 'M.Tech Lab 305', 'Scholar Room 309', 'PA Room 401', 'M.Tech Lab 308', 'Prof. Parag, 404', 'M.Tech Lab 306', '408', '407', 'Prof. Rohan Paul', '406', 'Room 402', 'Prof. Abhilash', 'Prof. Sourav Bansal', '', '', '', '', '', '', '', '', '', '', '', '', '', '', '', '', '', '', '', '', '', '', '', '', '', '', 'Male Washroom 1', 'Handicapped Washroom 1', 'Female Washroom 1', 'Male Washroom 1', 'Drinking Water Point 1', 'Male Washroom 1', 'Female Washroom 1', 'Drinking Water Point 1', '', '', 'Female Washroom 1', 'Drinking Water Point 1', 'Handicapped Washroom 1', 'Handicapped Washroom 1', 'Female Washroom 1', '', 'Male Washroom 1', 'Handicapped Washroom 1', 'Drinking Water Point 1', 'Female Washroom 1', 'Male Washroom 1', '', '', '', '', '', None, None, None, None, None]\n"
     ]
    }
   ],
   "source": [
    "print(names)"
   ]
  },
  {
   "cell_type": "code",
   "execution_count": 31,
   "id": "7ef4a1a2",
   "metadata": {},
   "outputs": [
    {
     "data": {
      "application/vnd.jupyter.widget-view+json": {
       "model_id": "5eee4ae6ff264da9aa2445a98e9a905a",
       "version_major": 2,
       "version_minor": 0
      },
      "text/plain": [
       "Text(value='', description='String:', placeholder='Type something')"
      ]
     },
     "metadata": {},
     "output_type": "display_data"
    },
    {
     "data": {
      "application/vnd.jupyter.widget-view+json": {
       "model_id": "9aeaa73354be4bf48f5b95af21c3933c",
       "version_major": 2,
       "version_minor": 0
      },
      "text/plain": [
       "Label(value='')"
      ]
     },
     "metadata": {},
     "output_type": "display_data"
    }
   ],
   "source": [
    "import ipywidgets\n",
    "\n",
    "from fast_autocomplete import AutoComplete\n",
    "\n",
    "words = {'book': {}, 'burrito': {}, 'pizza': {}, 'pasta':{}}\n",
    "autocomplete = AutoComplete(words=words)\n",
    "\n",
    "def on_change(data):\n",
    "    #print(data)\n",
    "    \n",
    "    text = data['new']\n",
    "    #print(text)\n",
    "    \n",
    "    values = autocomplete.search(text, max_cost=3, size=3)\n",
    "    #print(values)\n",
    "    \n",
    "    # convert nested list to string\n",
    "    #values = ', '.join(sorted(set(str(item) for sublist in values for item in sublist)))\n",
    "\n",
    "    values = str(values)\n",
    "    #print(values)\n",
    "    \n",
    "    label.value = values\n",
    "    \n",
    "label = widgets.Label()\n",
    "\n",
    "text = ipywidgets.Text(\n",
    "    value='',\n",
    "    placeholder='Type something',\n",
    "    description='String:',\n",
    "    disabled=False\n",
    ")\n",
    "text.observe(on_change, names='value')\n",
    "\n",
    "display(text, label)"
   ]
  },
  {
   "cell_type": "code",
   "execution_count": 1,
   "id": "300f5a92",
   "metadata": {},
   "outputs": [
    {
     "name": "stdout",
     "output_type": "stream",
     "text": [
      "Note: you may need to restart the kernel to use updated packages.\n"
     ]
    },
    {
     "name": "stderr",
     "output_type": "stream",
     "text": [
      "ERROR: Could not find a version that satisfies the requirement Ipytho (from versions: none)\n",
      "ERROR: No matching distribution found for Ipytho\n"
     ]
    }
   ],
   "source": []
  },
  {
   "cell_type": "code",
   "execution_count": 2,
   "id": "dc78d4e2",
   "metadata": {},
   "outputs": [
    {
     "data": {
      "application/vnd.jupyter.widget-view+json": {
       "model_id": "a573d6eb0cd0418ea03293c6a851abf0",
       "version_major": 2,
       "version_minor": 0
      },
      "text/plain": [
       "Combobox(value='', description='String:', placeholder='Type something')"
      ]
     },
     "metadata": {},
     "output_type": "display_data"
    },
    {
     "data": {
      "application/javascript": [
       " document.querySelector(\"datalist\").innerHTML = \"\" "
      ],
      "text/plain": [
       "<IPython.core.display.Javascript object>"
      ]
     },
     "metadata": {},
     "output_type": "display_data"
    },
    {
     "data": {
      "application/javascript": [
       " document.querySelector(\"datalist\").innerHTML = \"\" "
      ],
      "text/plain": [
       "<IPython.core.display.Javascript object>"
      ]
     },
     "metadata": {},
     "output_type": "display_data"
    },
    {
     "data": {
      "application/javascript": [
       " document.querySelector(\"datalist\").innerHTML = \"\" "
      ],
      "text/plain": [
       "<IPython.core.display.Javascript object>"
      ]
     },
     "metadata": {},
     "output_type": "display_data"
    },
    {
     "data": {
      "application/javascript": [
       " document.querySelector(\"datalist\").innerHTML = \"\" "
      ],
      "text/plain": [
       "<IPython.core.display.Javascript object>"
      ]
     },
     "metadata": {},
     "output_type": "display_data"
    },
    {
     "data": {
      "application/javascript": [
       " document.querySelector(\"datalist\").innerHTML = \"\" "
      ],
      "text/plain": [
       "<IPython.core.display.Javascript object>"
      ]
     },
     "metadata": {},
     "output_type": "display_data"
    },
    {
     "data": {
      "application/javascript": [
       " document.querySelector(\"datalist\").innerHTML = \"\" "
      ],
      "text/plain": [
       "<IPython.core.display.Javascript object>"
      ]
     },
     "metadata": {},
     "output_type": "display_data"
    }
   ],
   "source": [
    "import ipywidgets as widgets\n",
    "from IPython.display import Javascript, display\n",
    "\n",
    "from fast_autocomplete import AutoComplete\n",
    "\n",
    "words = {'book': {}, 'burrito': {}, 'pizza': {}, 'pasta':{}}\n",
    "autocomplete = AutoComplete(words=words)\n",
    "\n",
    "def on_change(data):\n",
    "    #print(data)\n",
    "\n",
    "    text = data['new']\n",
    "    #print(text)\n",
    "\n",
    "    values = autocomplete.search(text, max_cost=3, size=3)\n",
    "    #print(values)\n",
    "    \n",
    "    # convert nested list to flat list\n",
    "    values = list(sorted(set(str(item) for sublist in values for item in sublist)))\n",
    "    #print(values)\n",
    "        \n",
    "    # remove previous options from tag `<datalist>` in HTML\n",
    "    display(Javascript(\"\"\" document.querySelector(\"datalist\").innerHTML = \"\" \"\"\"))\n",
    "    \n",
    "    combo.options = values\n",
    "    \n",
    "combo = widgets.Combobox(\n",
    "    value='',\n",
    "    placeholder='Type something',\n",
    "    description='String:',\n",
    "    disabled=False\n",
    ")\n",
    "combo.observe(on_change, names='value')\n",
    "display(combo)"
   ]
  },
  {
   "cell_type": "code",
   "execution_count": 44,
   "id": "bf237f85",
   "metadata": {},
   "outputs": [],
   "source": []
  },
  {
   "cell_type": "code",
   "execution_count": 8,
   "id": "28b9280e",
   "metadata": {},
   "outputs": [
    {
     "name": "stdout",
     "output_type": "stream",
     "text": [
      "None\n"
     ]
    }
   ],
   "source": [
    "print(a)"
   ]
  },
  {
   "cell_type": "code",
   "execution_count": 54,
   "id": "e1603ada",
   "metadata": {},
   "outputs": [
    {
     "data": {
      "application/vnd.jupyter.widget-view+json": {
       "model_id": "929c581469b845fd8e576b24cf8e3e27",
       "version_major": 2,
       "version_minor": 0
      },
      "text/plain": [
       "Text(value='', description='String:', placeholder='Type something')"
      ]
     },
     "metadata": {},
     "output_type": "display_data"
    },
    {
     "data": {
      "application/vnd.jupyter.widget-view+json": {
       "model_id": "e36f0a65c2d2485fbb221ca5e50e20e5",
       "version_major": 2,
       "version_minor": 0
      },
      "text/plain": [
       "Label(value='')"
      ]
     },
     "metadata": {},
     "output_type": "display_data"
    }
   ],
   "source": [
    "import ipywidgets\n",
    "\n",
    "from fast_autocomplete import AutoComplete\n",
    "\n",
    "words = {'book': {}, 'burrito': {}, 'pizza': {}, 'pasta':{}}\n",
    "autocomplete = AutoComplete(words=words)\n",
    "\n",
    "def on_change(data):\n",
    "    #print(data)\n",
    "    \n",
    "    text = data['new']\n",
    "    #print(text)\n",
    "    \n",
    "    values = autocomplete.search(text, max_cost=3, size=3)\n",
    "    #print(values)\n",
    "    \n",
    "    # convert nested list to string\n",
    "    #values = ', '.join(sorted(set(str(item) for sublist in values for item in sublist)))\n",
    "\n",
    "    values = str(values)\n",
    "    #print(values)\n",
    "    \n",
    "    label.value = values\n",
    "    \n",
    "label = widgets.Label()\n",
    "\n",
    "text = ipywidgets.Text(\n",
    "    value='',\n",
    "    placeholder='Type something',\n",
    "    description='String:',\n",
    "    disabled=False\n",
    ")\n",
    "text.observe(on_change, names='value')\n",
    "\n",
    "display(text, label)"
   ]
  },
  {
   "cell_type": "code",
   "execution_count": 12,
   "id": "c2115434",
   "metadata": {},
   "outputs": [
    {
     "name": "stdout",
     "output_type": "stream",
     "text": [
      "None\n"
     ]
    }
   ],
   "source": [
    "print(a)"
   ]
  },
  {
   "cell_type": "code",
   "execution_count": 1,
   "id": "9c499e30",
   "metadata": {},
   "outputs": [
    {
     "data": {
      "application/vnd.jupyter.widget-view+json": {
       "model_id": "1f301e159b3a41bb9e1aef1bc0a7adf3",
       "version_major": 2,
       "version_minor": 0
      },
      "text/plain": [
       "Combobox(value='', description='String:', placeholder='Type something')"
      ]
     },
     "metadata": {},
     "output_type": "display_data"
    },
    {
     "data": {
      "application/vnd.jupyter.widget-view+json": {
       "model_id": "5cf7244cc4d54872ad24c1601c517bbb",
       "version_major": 2,
       "version_minor": 0
      },
      "text/plain": [
       "Button(description='OK', style=ButtonStyle())"
      ]
     },
     "metadata": {},
     "output_type": "display_data"
    },
    {
     "data": {
      "application/javascript": [
       " document.querySelector(\"datalist\").innerHTML = \"\" "
      ],
      "text/plain": [
       "<IPython.core.display.Javascript object>"
      ]
     },
     "metadata": {},
     "output_type": "display_data"
    },
    {
     "data": {
      "application/javascript": [
       " document.querySelector(\"datalist\").innerHTML = \"\" "
      ],
      "text/plain": [
       "<IPython.core.display.Javascript object>"
      ]
     },
     "metadata": {},
     "output_type": "display_data"
    },
    {
     "name": "stdout",
     "output_type": "stream",
     "text": [
      "widget: Button(description='OK', style=ButtonStyle())\n",
      "global text: book\n",
      "widget: Button(description='OK', style=ButtonStyle())\n",
      "global text: book\n"
     ]
    },
    {
     "data": {
      "application/javascript": [
       " document.querySelector(\"datalist\").innerHTML = \"\" "
      ],
      "text/plain": [
       "<IPython.core.display.Javascript object>"
      ]
     },
     "metadata": {},
     "output_type": "display_data"
    },
    {
     "data": {
      "application/javascript": [
       " document.querySelector(\"datalist\").innerHTML = \"\" "
      ],
      "text/plain": [
       "<IPython.core.display.Javascript object>"
      ]
     },
     "metadata": {},
     "output_type": "display_data"
    },
    {
     "data": {
      "application/javascript": [
       " document.querySelector(\"datalist\").innerHTML = \"\" "
      ],
      "text/plain": [
       "<IPython.core.display.Javascript object>"
      ]
     },
     "metadata": {},
     "output_type": "display_data"
    },
    {
     "data": {
      "application/javascript": [
       " document.querySelector(\"datalist\").innerHTML = \"\" "
      ],
      "text/plain": [
       "<IPython.core.display.Javascript object>"
      ]
     },
     "metadata": {},
     "output_type": "display_data"
    },
    {
     "data": {
      "application/javascript": [
       " document.querySelector(\"datalist\").innerHTML = \"\" "
      ],
      "text/plain": [
       "<IPython.core.display.Javascript object>"
      ]
     },
     "metadata": {},
     "output_type": "display_data"
    },
    {
     "data": {
      "application/javascript": [
       " document.querySelector(\"datalist\").innerHTML = \"\" "
      ],
      "text/plain": [
       "<IPython.core.display.Javascript object>"
      ]
     },
     "metadata": {},
     "output_type": "display_data"
    },
    {
     "data": {
      "application/javascript": [
       " document.querySelector(\"datalist\").innerHTML = \"\" "
      ],
      "text/plain": [
       "<IPython.core.display.Javascript object>"
      ]
     },
     "metadata": {},
     "output_type": "display_data"
    },
    {
     "data": {
      "application/javascript": [
       " document.querySelector(\"datalist\").innerHTML = \"\" "
      ],
      "text/plain": [
       "<IPython.core.display.Javascript object>"
      ]
     },
     "metadata": {},
     "output_type": "display_data"
    },
    {
     "name": "stdout",
     "output_type": "stream",
     "text": [
      "widget: Button(description='OK', style=ButtonStyle())\n",
      "global text: pasta\n"
     ]
    }
   ],
   "source": [
    "import ipywidgets as widgets\n",
    "from IPython.display import Javascript, display\n",
    "\n",
    "from fast_autocomplete import AutoComplete\n",
    "\n",
    "words = {'book': {}, 'burrito': {}, 'pizza': {}, 'pasta':{}}\n",
    "autocomplete = AutoComplete(words=words)\n",
    "\n",
    "def on_change(data):\n",
    "    global text  # inform function to use global `text` instead of local `text` when you assign `text = ...`\n",
    "    \n",
    "    #print(data)\n",
    "\n",
    "    text = data['new']\n",
    "    #print(text)\n",
    "\n",
    "    values = autocomplete.search(text, max_cost=3, size=3)\n",
    "    #print(values)\n",
    "    \n",
    "    # convert nested list to flat list\n",
    "    values = list(sorted(set(str(item) for sublist in values for item in sublist)))\n",
    "    #print(values)\n",
    "        \n",
    "    # remove previous options from tag `<datalist>` in HTML\n",
    "    display(Javascript(\"\"\" document.querySelector(\"datalist\").innerHTML = \"\" \"\"\"))\n",
    "    \n",
    "    combo.options = values\n",
    "    \n",
    "combo = widgets.Combobox(\n",
    "    value='',\n",
    "    placeholder='Type something',\n",
    "    description='String:',\n",
    "    disabled=False\n",
    ")\n",
    "combo.observe(on_change, names='value')\n",
    "\n",
    "def your_function(widget):\n",
    "    print('widget:', widget)\n",
    "    print('global text:', text)\n",
    "    # here make all calculations\n",
    "    \n",
    "button = widgets.Button(description='OK')\n",
    "button.on_click(your_function)\n",
    "\n",
    "display(combo, button)"
   ]
  },
  {
   "cell_type": "code",
   "execution_count": null,
   "id": "331e4e06",
   "metadata": {},
   "outputs": [],
   "source": []
  }
 ],
 "metadata": {
  "kernelspec": {
   "display_name": "Python 3 (ipykernel)",
   "language": "python",
   "name": "python3"
  },
  "language_info": {
   "codemirror_mode": {
    "name": "ipython",
    "version": 3
   },
   "file_extension": ".py",
   "mimetype": "text/x-python",
   "name": "python",
   "nbconvert_exporter": "python",
   "pygments_lexer": "ipython3",
   "version": "3.9.12"
  }
 },
 "nbformat": 4,
 "nbformat_minor": 5
}
